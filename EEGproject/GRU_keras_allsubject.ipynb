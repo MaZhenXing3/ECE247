{
 "cells": [
  {
   "cell_type": "code",
   "execution_count": 1,
   "metadata": {},
   "outputs": [],
   "source": [
    "import tensorflow as tf\n",
    "from tensorflow import keras\n",
    "import numpy as np\n",
    "import matplotlib.pyplot as plt\n",
    "from tensorflow.keras import layers\n",
    "from tensorflow.keras import Model\n",
    "#from tensorflow.train import exponential_decay"
   ]
  },
  {
   "cell_type": "code",
   "execution_count": 2,
   "metadata": {},
   "outputs": [],
   "source": [
    "X_test = np.load(\"X_test.npy\")\n",
    "y_test = np.load(\"y_test.npy\")\n",
    "person_train_valid = np.load(\"person_train_valid.npy\")\n",
    "X_train_valid = np.load(\"X_train_valid.npy\")\n",
    "y_train_valid = np.load(\"y_train_valid.npy\")\n",
    "person_test = np.load(\"person_test.npy\")"
   ]
  },
  {
   "cell_type": "code",
   "execution_count": 3,
   "metadata": {},
   "outputs": [
    {
     "name": "stdout",
     "output_type": "stream",
     "text": [
      "Training/Valid data shape: (2115, 22, 1000)\n",
      "Test data shape: (443, 22, 1000)\n",
      "Training/Valid target shape: (2115,)\n",
      "Test target shape: (443,)\n",
      "Person train/valid shape: (2115, 1)\n",
      "Person test shape: (443, 1)\n"
     ]
    }
   ],
   "source": [
    "y_test = y_test - 769\n",
    "y_train_valid = y_train_valid - 769\n",
    "print ('Training/Valid data shape: {}'.format(X_train_valid.shape))\n",
    "print ('Test data shape: {}'.format(X_test.shape))\n",
    "print ('Training/Valid target shape: {}'.format(y_train_valid.shape))\n",
    "print ('Test target shape: {}'.format(y_test.shape))\n",
    "print ('Person train/valid shape: {}'.format(person_train_valid.shape))\n",
    "print ('Person test shape: {}'.format(person_test.shape))"
   ]
  },
  {
   "cell_type": "code",
   "execution_count": 4,
   "metadata": {},
   "outputs": [],
   "source": [
    "# 把最后一个axis变两倍， 500 -> 1000\n",
    "def double_ax2(a):\n",
    "    result = np.zeros((a.shape[0],a.shape[1],a.shape[2] * 2))\n",
    "    b = np.reshape(a[:,:,-1],(a.shape[0],a.shape[1],1))\n",
    "    aMod = np.concatenate((a,b),axis = 2)\n",
    "    for i in range(a.shape[2]):\n",
    "        ave = (aMod[:,:,i] + aMod[:,:,i+1]) / 2\n",
    "        result[:,:,2 * i] = aMod[:,:,i]\n",
    "        result[:,:,2*i + 1] = ave\n",
    "    return result"
   ]
  },
  {
   "cell_type": "code",
   "execution_count": 5,
   "metadata": {},
   "outputs": [
    {
     "name": "stdout",
     "output_type": "stream",
     "text": [
      "(1692, 22, 1000)\n",
      "(423, 22, 1000)\n",
      "(443, 22, 1000)\n"
     ]
    }
   ],
   "source": [
    "from sklearn.model_selection import train_test_split\n",
    "X_train, X_valid, y_train, y_valid = train_test_split(X_train_valid, y_train_valid,\n",
    "                                                      test_size=0.2,shuffle=True,\n",
    "                                                      stratify=y_train_valid)\n",
    "#X_train = X_train.transpose(0,2,1)  # no need to transpose if downsampling\n",
    "#X_valid = X_valid.transpose(0,2,1)\n",
    "#X_test = X_test.transpose(0,2,1)\n",
    "print(X_train.shape)\n",
    "print(X_valid.shape)\n",
    "print(X_test.shape)"
   ]
  },
  {
   "cell_type": "code",
   "execution_count": 6,
   "metadata": {},
   "outputs": [
    {
     "data": {
      "text/plain": [
       "(array([106.,   0.,   0., 102.,   0.,   0., 109.,   0.,   0., 106.]),\n",
       " array([0. , 0.3, 0.6, 0.9, 1.2, 1.5, 1.8, 2.1, 2.4, 2.7, 3. ]),\n",
       " <a list of 10 Patch objects>)"
      ]
     },
     "execution_count": 6,
     "metadata": {},
     "output_type": "execute_result"
    },
    {
     "data": {
      "image/png": "[encoded data removed]",
      "text/plain": [
       "<Figure size 1080x360 with 2 Axes>"
      ]
     },
     "metadata": {
      "needs_background": "light"
     },
     "output_type": "display_data"
    }
   ],
   "source": [
    "plt.figure(figsize=(15, 5))\n",
    "plt.subplot(1, 2, 1)\n",
    "plt.hist(y_train)\n",
    "plt.subplot(1, 2, 2)\n",
    "plt.hist(y_valid)"
   ]
  },
  {
   "cell_type": "code",
   "execution_count": 7,
   "metadata": {},
   "outputs": [
    {
     "name": "stdout",
     "output_type": "stream",
     "text": [
      "(3384, 500, 22)\n",
      "(3384,)\n",
      "(423, 500, 22)\n",
      "(443, 500, 22)\n"
     ]
    }
   ],
   "source": [
    "# downsample ########\n",
    "num_time = X_train.shape[2]\n",
    "sample_1 = list(np.arange(0,num_time,2))\n",
    "sample_2 = list(np.arange(1,num_time,2))\n",
    "\n",
    "X_train_1 = X_train[:,:,sample_1]\n",
    "X_train_2 = X_train[:,:,sample_2]\n",
    "\n",
    "X_val_1 = X_valid[:,:,sample_1]\n",
    "X_val_2 = X_valid[:,:,sample_2]\n",
    "\n",
    "X_test_s1 = X_test[:,:,sample_1]\n",
    "X_test_s2 = X_test[:,:,sample_2]\n",
    "\n",
    "X_train_s = np.concatenate((X_train_1,X_train_2), axis=0).transpose(0, 2, 1)\n",
    "#X_train_s = double_ax2(X_train_s_).transpose(0, 2, 1)  # upsampling\n",
    "y_train_s = np.concatenate((y_train,y_train), axis=0)\n",
    "\n",
    "X_valid_s = X_val_1.transpose(0, 2, 1)\n",
    "#X_val_s = X_valid.transpose(0, 2, 1)  # upsampling\n",
    "y_valid_s = y_valid\n",
    "\n",
    "X_test_s = X_test_s1.transpose(0, 2, 1)\n",
    "#X_test_s = X_test_1.transpose(0, 2, 1) # upsampling\n",
    "y_test_s = y_test\n",
    "\n",
    "print(X_train_s.shape)\n",
    "print(y_train_s.shape)\n",
    "print(X_valid_s.shape)\n",
    "print(X_test_s.shape)"
   ]
  },
  {
   "cell_type": "code",
   "execution_count": 8,
   "metadata": {},
   "outputs": [],
   "source": [
    "from tensorflow.keras import regularizers"
   ]
  },
  {
   "cell_type": "code",
   "execution_count": 9,
   "metadata": {},
   "outputs": [],
   "source": [
    "hidden_gru = 64"
   ]
  },
  {
   "cell_type": "code",
   "execution_count": 10,
   "metadata": {},
   "outputs": [],
   "source": [
    "l1_reg = regularizers.l1(0.00005)\n",
    "l2_reg = regularizers.l2(0.01)\n",
    "l1_l2 = regularizers.l1_l2(l1=0.0005, l2=0.01)"
   ]
  },
  {
   "cell_type": "code",
   "execution_count": 11,
   "metadata": {},
   "outputs": [
    {
     "name": "stdout",
     "output_type": "stream",
     "text": [
      "WARNING:tensorflow:Large dropout rate: 0.8 (>0.5). In TensorFlow 2.x, dropout() uses dropout rate instead of keep_prob. Please ensure that this is intended.\n",
      "WARNING:tensorflow:Large dropout rate: 0.8 (>0.5). In TensorFlow 2.x, dropout() uses dropout rate instead of keep_prob. Please ensure that this is intended.\n",
      "Model: \"model\"\n",
      "__________________________________________________________________________________________________\n",
      "Layer (type)                    Output Shape         Param #     Connected to                     \n",
      "==================================================================================================\n",
      "input_1 (InputLayer)            [(None, 500, 22)]    0                                            \n",
      "__________________________________________________________________________________________________\n",
      "conv1d (Conv1D)                 (None, 492, 128)     25472       input_1[0][0]                    \n",
      "__________________________________________________________________________________________________\n",
      "batch_normalization (BatchNorma (None, 492, 128)     512         conv1d[0][0]                     \n",
      "__________________________________________________________________________________________________\n",
      "elu (ELU)                       (None, 492, 128)     0           batch_normalization[0][0]        \n",
      "__________________________________________________________________________________________________\n",
      "max_pooling1d (MaxPooling1D)    (None, 246, 128)     0           elu[0][0]                        \n",
      "__________________________________________________________________________________________________\n",
      "lstm (LSTM)                     (None, 246, 128)     131584      max_pooling1d[0][0]              \n",
      "__________________________________________________________________________________________________\n",
      "add (Add)                       (None, 246, 128)     0           lstm[0][0]                       \n",
      "                                                                 max_pooling1d[0][0]              \n",
      "__________________________________________________________________________________________________\n",
      "conv1d_1 (Conv1D)               (None, 238, 128)     147584      add[0][0]                        \n",
      "__________________________________________________________________________________________________\n",
      "batch_normalization_1 (BatchNor (None, 238, 128)     512         conv1d_1[0][0]                   \n",
      "__________________________________________________________________________________________________\n",
      "zero_padding1d (ZeroPadding1D)  (None, 239, 128)     0           batch_normalization_1[0][0]      \n",
      "__________________________________________________________________________________________________\n",
      "elu_1 (ELU)                     (None, 239, 128)     0           zero_padding1d[0][0]             \n",
      "__________________________________________________________________________________________________\n",
      "max_pooling1d_1 (MaxPooling1D)  (None, 119, 128)     0           elu_1[0][0]                      \n",
      "__________________________________________________________________________________________________\n",
      "conv1d_2 (Conv1D)               (None, 111, 128)     147584      max_pooling1d_1[0][0]            \n",
      "__________________________________________________________________________________________________\n",
      "batch_normalization_2 (BatchNor (None, 111, 128)     512         conv1d_2[0][0]                   \n",
      "__________________________________________________________________________________________________\n",
      "zero_padding1d_1 (ZeroPadding1D (None, 112, 128)     0           batch_normalization_2[0][0]      \n",
      "__________________________________________________________________________________________________\n",
      "elu_2 (ELU)                     (None, 112, 128)     0           zero_padding1d_1[0][0]           \n",
      "__________________________________________________________________________________________________\n",
      "max_pooling1d_2 (MaxPooling1D)  (None, 56, 128)      0           elu_2[0][0]                      \n",
      "__________________________________________________________________________________________________\n",
      "reshape (Reshape)               (None, 7168)         0           max_pooling1d_2[0][0]            \n",
      "__________________________________________________________________________________________________\n",
      "dense (Dense)                   (None, 300)          2150700     reshape[0][0]                    \n",
      "__________________________________________________________________________________________________\n",
      "batch_normalization_3 (BatchNor (None, 300)          1200        dense[0][0]                      \n",
      "__________________________________________________________________________________________________\n",
      "elu_3 (ELU)                     (None, 300)          0           batch_normalization_3[0][0]      \n",
      "__________________________________________________________________________________________________\n",
      "dropout (Dropout)               (None, 300)          0           elu_3[0][0]                      \n",
      "__________________________________________________________________________________________________\n",
      "dense_1 (Dense)                 (None, 40)           12040       dropout[0][0]                    \n",
      "__________________________________________________________________________________________________\n",
      "batch_normalization_4 (BatchNor (None, 40)           160         dense_1[0][0]                    \n",
      "__________________________________________________________________________________________________\n",
      "elu_4 (ELU)                     (None, 40)           0           batch_normalization_4[0][0]      \n",
      "__________________________________________________________________________________________________\n",
      "dropout_1 (Dropout)             (None, 40)           0           elu_4[0][0]                      \n",
      "__________________________________________________________________________________________________\n",
      "dense_2 (Dense)                 (None, 4)            164         dropout_1[0][0]                  \n",
      "==================================================================================================\n",
      "Total params: 2,618,024\n",
      "Trainable params: 2,616,576\n",
      "Non-trainable params: 1,448\n",
      "__________________________________________________________________________________________________\n"
     ]
    }
   ],
   "source": [
    "gru_net_input = layers.Input(shape=(500,22))\n",
    "#gru_net_input = layers.Input(shape=(22,1000))\n",
    "#x = layers.UpSampling1D(size=2)(gru_net_input)\n",
    "\n",
    "x = layers.Conv1D(128, 9, strides=1, padding='valid', kernel_regularizer=l1_l2)(gru_net_input)\n",
    "x = layers.BatchNormalization(axis=-1)(x)\n",
    "x = layers.ELU(alpha=1)(x)\n",
    "#x = layers.SpatialDropout1D(0.2)(x)\n",
    "out_max = layers.MaxPooling1D(pool_size=2)(x)\n",
    "\n",
    "#x = layers.Conv1D(248, 5, strides=1, padding='valid', kernel_regularizer=l1_l2, data_format='channels_first')(out_max)\n",
    "#x = layers.BatchNormalization(axis=-1)(x)\n",
    "#out_max = layers.ELU(alpha=1)(x)\n",
    "#x = layers.SpatialDropout1D(0.2)(x)\n",
    "#x = layers.Add()([x, out_max])\n",
    "#out_max = layers.MaxPooling1D(pool_size=2)(x)\n",
    "\n",
    "#gru_f = layers.GRU(40,return_sequences=True, kernel_regularizer=l1_l2)(gru_net_input) # hidden_dims of gru = 40\n",
    "#gru_b = layers.GRU(40,return_sequences=True, kernel_regularizer=l1_l2, go_backwards=True)(gru_net_input)\n",
    "#gru = layers.Concatenate(axis=-1)([gru_f, gru_b])\n",
    "\n",
    "#gru_f = layers.GRU(40,return_sequences=True, kernel_regularizer=l1_l2)(gru) # hidden_dims of gru = 40\n",
    "#gru_b = layers.GRU(40,return_sequences=True, kernel_regularizer=l1_l2, go_backwards=True)(gru)\n",
    "#gru = layers.Concatenate(axis=-1)([gru_f, gru_b])  activity_regularizer=l1_reg\n",
    "\n",
    "lstm = layers.LSTM(128,return_sequences=True, kernel_regularizer=l1_l2)(out_max)\n",
    "#gru = layers.LSTM(64,return_sequences=True, kernel_regularizer=l1_l2)(gru)\n",
    "\n",
    "lstm = layers.Add()([lstm, out_max])\n",
    "\n",
    "x = layers.Conv1D(128, 9, strides=1, padding='valid', kernel_regularizer=l1_l2)(lstm)\n",
    "x = layers.BatchNormalization(axis=-1)(x) # output batch*500*64\n",
    "x = keras.layers.ZeroPadding1D(padding=(0, 1))(x) # for downsample data and 9 kernel size\n",
    "#x = layers.ReLU()(x)\n",
    "x = layers.ELU(alpha=1)(x)\n",
    "#x = layers.SpatialDropout1D(0.2)(x)\n",
    "x = layers.MaxPooling1D(pool_size=2)(x)\n",
    "\n",
    "x = layers.Conv1D(128, 9, strides=1, padding='valid', kernel_regularizer=l1_l2)(x)\n",
    "x = layers.BatchNormalization(axis=-1)(x) # output batch*500*124\n",
    "x = keras.layers.ZeroPadding1D(padding=(0, 1))(x) # for downsample data\n",
    "#x = layers.ReLU()(x)\n",
    "x = layers.ELU(alpha=1)(x)\n",
    "#x = layers.SpatialDropout1D(0.2)(x)\n",
    "x = layers.MaxPooling1D(pool_size=2)(x)\n",
    "\n",
    "x = layers.Reshape((int(56*128),))(x) # 125*128 for full shape data. 59*128 for downsample data\n",
    "\n",
    "x = layers.Dense(300, kernel_regularizer=l1_l2)(x) # output batch*64*64  the last dimension is sequence\n",
    "x = layers.BatchNormalization(axis=-1)(x) # after permute to axis=1\n",
    "x = layers.ELU(alpha=1)(x)\n",
    "#x = layers.ReLU()(x)\n",
    "x = layers.Dropout(0.8)(x)\n",
    "\n",
    "x = layers.Dense(40, kernel_regularizer=l1_l2)(x) # output batch*64*64  the last dimension is sequence\n",
    "x = layers.BatchNormalization(axis=-1)(x) # after permute to axis=1\n",
    "x = layers.ELU(alpha=1)(x)\n",
    "#x = layers.ReLU()(x)\n",
    "x = layers.Dropout(0.8)(x)\n",
    "\n",
    "output = layers.Dense(4, activation='softmax', kernel_regularizer=l1_l2)(x)\n",
    "\n",
    "model_ = keras.Model(gru_net_input, output)\n",
    "model_.summary()\n"
   ]
  },
  {
   "cell_type": "code",
   "execution_count": 12,
   "metadata": {},
   "outputs": [],
   "source": [
    "loss_ = keras.losses.SparseCategoricalCrossentropy()\n",
    "#optim = keras.optimizers.Adam(learning_rate=0.0005)\n",
    "optim = tf.keras.optimizers.SGD(learning_rate=0.001, momentum=0.9, nesterov=True, name='SGD')\n",
    "model_.compile(optimizer=optim, loss=loss_, metrics=['accuracy'])"
   ]
  },
  {
   "cell_type": "code",
   "execution_count": 13,
   "metadata": {},
   "outputs": [
    {
     "name": "stdout",
     "output_type": "stream",
     "text": [
      "Train on 3384 samples, validate on 423 samples\n",
      "Epoch 1/120\n",
      "WARNING:tensorflow:Large dropout rate: 0.8 (>0.5). In TensorFlow 2.x, dropout() uses dropout rate instead of keep_prob. Please ensure that this is intended.\n",
      "WARNING:tensorflow:Large dropout rate: 0.8 (>0.5). In TensorFlow 2.x, dropout() uses dropout rate instead of keep_prob. Please ensure that this is intended.\n",
      "WARNING:tensorflow:Large dropout rate: 0.8 (>0.5). In TensorFlow 2.x, dropout() uses dropout rate instead of keep_prob. Please ensure that this is intended.\n",
      "3384/3384 [==============================] - 6s 2ms/sample - loss: 35.5656 - accuracy: 0.2533 - val_loss: 34.5550 - val_accuracy: 0.2600\n",
      "Epoch 2/120\n",
      "3384/3384 [==============================] - 2s 487us/sample - loss: 35.1864 - accuracy: 0.2722 - val_loss: 34.4612 - val_accuracy: 0.3239\n",
      "Epoch 3/120\n",
      "3384/3384 [==============================] - 2s 485us/sample - loss: 34.8398 - accuracy: 0.2769 - val_loss: 34.1008 - val_accuracy: 0.3428\n",
      "Epoch 4/120\n",
      "3384/3384 [==============================] - 2s 486us/sample - loss: 34.3658 - accuracy: 0.3112 - val_loss: 33.7418 - val_accuracy: 0.3428\n",
      "Epoch 5/120\n",
      "3384/3384 [==============================] - 2s 488us/sample - loss: 34.1359 - accuracy: 0.3070 - val_loss: 33.4634 - val_accuracy: 0.3546\n",
      "Epoch 6/120\n",
      "3384/3384 [==============================] - 2s 488us/sample - loss: 33.7729 - accuracy: 0.3227 - val_loss: 33.1894 - val_accuracy: 0.3546\n",
      "Epoch 7/120\n",
      "3384/3384 [==============================] - 2s 489us/sample - loss: 33.4845 - accuracy: 0.3168 - val_loss: 32.9053 - val_accuracy: 0.3593\n",
      "Epoch 8/120\n",
      "3384/3384 [==============================] - 2s 487us/sample - loss: 33.1409 - accuracy: 0.3493 - val_loss: 32.6285 - val_accuracy: 0.3783\n",
      "Epoch 9/120\n",
      "3384/3384 [==============================] - 2s 486us/sample - loss: 32.8379 - accuracy: 0.3522 - val_loss: 32.3596 - val_accuracy: 0.4066\n",
      "Epoch 10/120\n",
      "3384/3384 [==============================] - 2s 487us/sample - loss: 32.5997 - accuracy: 0.3419 - val_loss: 32.1088 - val_accuracy: 0.4184\n",
      "Epoch 11/120\n",
      "3384/3384 [==============================] - 2s 489us/sample - loss: 32.2536 - accuracy: 0.3655 - val_loss: 31.8758 - val_accuracy: 0.4161\n",
      "Epoch 12/120\n",
      "3384/3384 [==============================] - 2s 488us/sample - loss: 31.9905 - accuracy: 0.3750 - val_loss: 31.6283 - val_accuracy: 0.4326\n",
      "Epoch 13/120\n",
      "3384/3384 [==============================] - 2s 487us/sample - loss: 31.7575 - accuracy: 0.3768 - val_loss: 31.3845 - val_accuracy: 0.4184\n",
      "Epoch 14/120\n",
      "3384/3384 [==============================] - 2s 487us/sample - loss: 31.5022 - accuracy: 0.3833 - val_loss: 31.1434 - val_accuracy: 0.4326\n",
      "Epoch 15/120\n",
      "3384/3384 [==============================] - 2s 491us/sample - loss: 31.2412 - accuracy: 0.3918 - val_loss: 30.9115 - val_accuracy: 0.4610\n",
      "Epoch 16/120\n",
      "3384/3384 [==============================] - 2s 488us/sample - loss: 30.9609 - accuracy: 0.4111 - val_loss: 30.6788 - val_accuracy: 0.4681\n",
      "Epoch 17/120\n",
      "3384/3384 [==============================] - 2s 488us/sample - loss: 30.7250 - accuracy: 0.4202 - val_loss: 30.4524 - val_accuracy: 0.4657\n",
      "Epoch 18/120\n",
      "3384/3384 [==============================] - 2s 488us/sample - loss: 30.5023 - accuracy: 0.4146 - val_loss: 30.2329 - val_accuracy: 0.4775\n",
      "Epoch 19/120\n",
      "3384/3384 [==============================] - 2s 492us/sample - loss: 30.2443 - accuracy: 0.4447 - val_loss: 30.0133 - val_accuracy: 0.4728\n",
      "Epoch 20/120\n",
      "3384/3384 [==============================] - 2s 489us/sample - loss: 30.0202 - accuracy: 0.4376 - val_loss: 29.7927 - val_accuracy: 0.4775\n",
      "Epoch 21/120\n",
      "3384/3384 [==============================] - 2s 489us/sample - loss: 29.7744 - accuracy: 0.4388 - val_loss: 29.5756 - val_accuracy: 0.4965\n",
      "Epoch 22/120\n",
      "3384/3384 [==============================] - 2s 490us/sample - loss: 29.5567 - accuracy: 0.4486 - val_loss: 29.3605 - val_accuracy: 0.4941\n",
      "Epoch 23/120\n",
      "3384/3384 [==============================] - 2s 490us/sample - loss: 29.3559 - accuracy: 0.4498 - val_loss: 29.1477 - val_accuracy: 0.5012\n",
      "Epoch 24/120\n",
      "3384/3384 [==============================] - 2s 487us/sample - loss: 29.0989 - accuracy: 0.4687 - val_loss: 28.9380 - val_accuracy: 0.4941\n",
      "Epoch 25/120\n",
      "3384/3384 [==============================] - 2s 490us/sample - loss: 28.8952 - accuracy: 0.4719 - val_loss: 28.7285 - val_accuracy: 0.5012\n",
      "Epoch 26/120\n",
      "3384/3384 [==============================] - 2s 488us/sample - loss: 28.6768 - accuracy: 0.4755 - val_loss: 28.5200 - val_accuracy: 0.5012\n",
      "Epoch 27/120\n",
      "3384/3384 [==============================] - 2s 489us/sample - loss: 28.4425 - accuracy: 0.4840 - val_loss: 28.3214 - val_accuracy: 0.5059\n",
      "Epoch 28/120\n",
      "3384/3384 [==============================] - 2s 487us/sample - loss: 28.2413 - accuracy: 0.4947 - val_loss: 28.1102 - val_accuracy: 0.4870\n",
      "Epoch 29/120\n",
      "3384/3384 [==============================] - 2s 488us/sample - loss: 28.0235 - accuracy: 0.4864 - val_loss: 27.9043 - val_accuracy: 0.4941\n",
      "Epoch 30/120\n",
      "3384/3384 [==============================] - 2s 490us/sample - loss: 27.8249 - accuracy: 0.4929 - val_loss: 27.6992 - val_accuracy: 0.5106\n",
      "Epoch 31/120\n",
      "3384/3384 [==============================] - 2s 491us/sample - loss: 27.5943 - accuracy: 0.5041 - val_loss: 27.4950 - val_accuracy: 0.5106\n",
      "Epoch 32/120\n",
      "3384/3384 [==============================] - 2s 490us/sample - loss: 27.3959 - accuracy: 0.5142 - val_loss: 27.3007 - val_accuracy: 0.5035\n",
      "Epoch 33/120\n",
      "3384/3384 [==============================] - 2s 492us/sample - loss: 27.1899 - accuracy: 0.5186 - val_loss: 27.0979 - val_accuracy: 0.5083\n",
      "Epoch 34/120\n",
      "3384/3384 [==============================] - 2s 493us/sample - loss: 26.9896 - accuracy: 0.5281 - val_loss: 26.9001 - val_accuracy: 0.5272\n",
      "Epoch 35/120\n",
      "3384/3384 [==============================] - 2s 490us/sample - loss: 26.7821 - accuracy: 0.5361 - val_loss: 26.7056 - val_accuracy: 0.5177\n",
      "Epoch 36/120\n",
      "3384/3384 [==============================] - 2s 490us/sample - loss: 26.5820 - accuracy: 0.5322 - val_loss: 26.5076 - val_accuracy: 0.5272\n",
      "Epoch 37/120\n",
      "3384/3384 [==============================] - 2s 492us/sample - loss: 26.3870 - accuracy: 0.5290 - val_loss: 26.3131 - val_accuracy: 0.5343\n",
      "Epoch 38/120\n",
      "3384/3384 [==============================] - 2s 490us/sample - loss: 26.1769 - accuracy: 0.5325 - val_loss: 26.1222 - val_accuracy: 0.5485\n",
      "Epoch 39/120\n",
      "3384/3384 [==============================] - 2s 491us/sample - loss: 25.9829 - accuracy: 0.5387 - val_loss: 25.9269 - val_accuracy: 0.5485\n",
      "Epoch 40/120\n",
      "3384/3384 [==============================] - 2s 490us/sample - loss: 25.7941 - accuracy: 0.5396 - val_loss: 25.7284 - val_accuracy: 0.5390\n",
      "Epoch 41/120\n",
      "3384/3384 [==============================] - 2s 490us/sample - loss: 25.5900 - accuracy: 0.5553 - val_loss: 25.5424 - val_accuracy: 0.5414\n",
      "Epoch 42/120\n",
      "3384/3384 [==============================] - 2s 492us/sample - loss: 25.4022 - accuracy: 0.5417 - val_loss: 25.3538 - val_accuracy: 0.5366\n",
      "Epoch 43/120\n",
      "3384/3384 [==============================] - 2s 491us/sample - loss: 25.1887 - accuracy: 0.5632 - val_loss: 25.1692 - val_accuracy: 0.5437\n",
      "Epoch 44/120\n",
      "3384/3384 [==============================] - 2s 492us/sample - loss: 25.0138 - accuracy: 0.5588 - val_loss: 24.9817 - val_accuracy: 0.5508\n",
      "Epoch 45/120\n",
      "3384/3384 [==============================] - 2s 492us/sample - loss: 24.8140 - accuracy: 0.5730 - val_loss: 24.7881 - val_accuracy: 0.5650\n",
      "Epoch 46/120\n",
      "3384/3384 [==============================] - 2s 491us/sample - loss: 24.6441 - accuracy: 0.5618 - val_loss: 24.6038 - val_accuracy: 0.5508\n",
      "Epoch 47/120\n",
      "3384/3384 [==============================] - 2s 495us/sample - loss: 24.4405 - accuracy: 0.5742 - val_loss: 24.4241 - val_accuracy: 0.5556\n",
      "Epoch 48/120\n",
      "3384/3384 [==============================] - 2s 491us/sample - loss: 24.2385 - accuracy: 0.5889 - val_loss: 24.2389 - val_accuracy: 0.5626\n",
      "Epoch 49/120\n",
      "3384/3384 [==============================] - 2s 492us/sample - loss: 24.0590 - accuracy: 0.5810 - val_loss: 24.0632 - val_accuracy: 0.5650\n",
      "Epoch 50/120\n",
      "3384/3384 [==============================] - 2s 493us/sample - loss: 23.8741 - accuracy: 0.5954 - val_loss: 23.8743 - val_accuracy: 0.5697\n",
      "Epoch 51/120\n"
     ]
    },
    {
     "name": "stdout",
     "output_type": "stream",
     "text": [
      "3384/3384 [==============================] - 2s 490us/sample - loss: 23.6727 - accuracy: 0.6025 - val_loss: 23.6969 - val_accuracy: 0.5721\n",
      "Epoch 52/120\n",
      "3384/3384 [==============================] - 2s 492us/sample - loss: 23.4847 - accuracy: 0.6061 - val_loss: 23.5137 - val_accuracy: 0.5721\n",
      "Epoch 53/120\n",
      "3384/3384 [==============================] - 2s 492us/sample - loss: 23.3238 - accuracy: 0.5922 - val_loss: 23.3387 - val_accuracy: 0.5626\n",
      "Epoch 54/120\n",
      "3384/3384 [==============================] - 2s 490us/sample - loss: 23.1119 - accuracy: 0.6244 - val_loss: 23.1646 - val_accuracy: 0.5697\n",
      "Epoch 55/120\n",
      "3384/3384 [==============================] - 2s 492us/sample - loss: 22.9559 - accuracy: 0.6087 - val_loss: 22.9859 - val_accuracy: 0.5697\n",
      "Epoch 56/120\n",
      "3384/3384 [==============================] - 2s 492us/sample - loss: 22.7696 - accuracy: 0.6155 - val_loss: 22.8097 - val_accuracy: 0.5863\n",
      "Epoch 57/120\n",
      "3384/3384 [==============================] - 2s 488us/sample - loss: 22.5961 - accuracy: 0.6135 - val_loss: 22.6367 - val_accuracy: 0.5768\n",
      "Epoch 58/120\n",
      "3384/3384 [==============================] - 2s 496us/sample - loss: 22.4061 - accuracy: 0.6297 - val_loss: 22.4726 - val_accuracy: 0.5768\n",
      "Epoch 59/120\n",
      "3384/3384 [==============================] - 2s 498us/sample - loss: 22.2325 - accuracy: 0.6209 - val_loss: 22.2929 - val_accuracy: 0.5816\n",
      "Epoch 60/120\n",
      "3384/3384 [==============================] - 2s 494us/sample - loss: 22.0528 - accuracy: 0.6348 - val_loss: 22.1228 - val_accuracy: 0.5768\n",
      "Epoch 61/120\n",
      "3384/3384 [==============================] - 2s 493us/sample - loss: 21.8627 - accuracy: 0.6483 - val_loss: 21.9465 - val_accuracy: 0.5863\n",
      "Epoch 62/120\n",
      "3384/3384 [==============================] - 2s 492us/sample - loss: 21.6904 - accuracy: 0.6546 - val_loss: 21.7808 - val_accuracy: 0.5910\n",
      "Epoch 63/120\n",
      "3384/3384 [==============================] - 2s 494us/sample - loss: 21.5113 - accuracy: 0.6611 - val_loss: 21.6097 - val_accuracy: 0.5792\n",
      "Epoch 64/120\n",
      "3384/3384 [==============================] - 2s 495us/sample - loss: 21.3280 - accuracy: 0.6741 - val_loss: 21.4384 - val_accuracy: 0.5863\n",
      "Epoch 65/120\n",
      "3384/3384 [==============================] - 2s 492us/sample - loss: 21.1802 - accuracy: 0.6548 - val_loss: 21.2836 - val_accuracy: 0.5816\n",
      "Epoch 66/120\n",
      "3384/3384 [==============================] - 2s 491us/sample - loss: 21.0236 - accuracy: 0.6436 - val_loss: 21.1276 - val_accuracy: 0.5626\n",
      "Epoch 67/120\n",
      "3384/3384 [==============================] - 2s 492us/sample - loss: 20.8440 - accuracy: 0.6714 - val_loss: 20.9498 - val_accuracy: 0.5768\n",
      "Epoch 68/120\n",
      "3384/3384 [==============================] - 2s 491us/sample - loss: 20.6581 - accuracy: 0.6782 - val_loss: 20.7812 - val_accuracy: 0.5910\n",
      "Epoch 69/120\n",
      "3384/3384 [==============================] - 2s 493us/sample - loss: 20.4873 - accuracy: 0.6882 - val_loss: 20.6212 - val_accuracy: 0.5887\n",
      "Epoch 70/120\n",
      "3384/3384 [==============================] - 2s 492us/sample - loss: 20.3334 - accuracy: 0.6767 - val_loss: 20.4723 - val_accuracy: 0.5887\n",
      "Epoch 71/120\n",
      "3384/3384 [==============================] - 2s 492us/sample - loss: 20.1603 - accuracy: 0.6885 - val_loss: 20.3060 - val_accuracy: 0.5981\n",
      "Epoch 72/120\n",
      "3384/3384 [==============================] - 2s 490us/sample - loss: 19.9918 - accuracy: 0.6865 - val_loss: 20.1405 - val_accuracy: 0.6005\n",
      "Epoch 73/120\n",
      "3384/3384 [==============================] - 2s 493us/sample - loss: 19.8263 - accuracy: 0.6930 - val_loss: 19.9837 - val_accuracy: 0.5957\n",
      "Epoch 74/120\n",
      "3384/3384 [==============================] - 2s 495us/sample - loss: 19.6688 - accuracy: 0.6995 - val_loss: 19.8383 - val_accuracy: 0.5863\n",
      "Epoch 75/120\n",
      "3384/3384 [==============================] - 2s 492us/sample - loss: 19.4987 - accuracy: 0.7072 - val_loss: 19.6884 - val_accuracy: 0.5887\n",
      "Epoch 76/120\n",
      "3384/3384 [==============================] - 2s 492us/sample - loss: 19.3292 - accuracy: 0.7139 - val_loss: 19.5144 - val_accuracy: 0.5910\n",
      "Epoch 77/120\n",
      "3384/3384 [==============================] - 2s 492us/sample - loss: 19.1579 - accuracy: 0.7337 - val_loss: 19.3562 - val_accuracy: 0.5887\n",
      "Epoch 78/120\n",
      "3384/3384 [==============================] - 2s 493us/sample - loss: 19.0013 - accuracy: 0.7264 - val_loss: 19.1983 - val_accuracy: 0.5957\n",
      "Epoch 79/120\n",
      "3384/3384 [==============================] - 2s 492us/sample - loss: 18.8400 - accuracy: 0.7311 - val_loss: 19.0479 - val_accuracy: 0.6005\n",
      "Epoch 80/120\n",
      "3384/3384 [==============================] - 2s 494us/sample - loss: 18.6721 - accuracy: 0.7456 - val_loss: 18.9306 - val_accuracy: 0.5792\n",
      "Epoch 81/120\n",
      "3384/3384 [==============================] - 2s 492us/sample - loss: 18.5210 - accuracy: 0.7317 - val_loss: 18.7785 - val_accuracy: 0.5981\n",
      "Epoch 82/120\n",
      "3384/3384 [==============================] - 2s 492us/sample - loss: 18.3652 - accuracy: 0.7358 - val_loss: 18.5998 - val_accuracy: 0.6241\n",
      "Epoch 83/120\n",
      "3384/3384 [==============================] - 2s 492us/sample - loss: 18.2148 - accuracy: 0.7515 - val_loss: 18.4781 - val_accuracy: 0.5981\n",
      "Epoch 84/120\n",
      "3384/3384 [==============================] - 2s 492us/sample - loss: 18.0656 - accuracy: 0.7485 - val_loss: 18.3109 - val_accuracy: 0.6005\n",
      "Epoch 85/120\n",
      "3384/3384 [==============================] - 2s 491us/sample - loss: 17.9010 - accuracy: 0.7577 - val_loss: 18.1639 - val_accuracy: 0.6005\n",
      "Epoch 86/120\n",
      "3384/3384 [==============================] - 2s 491us/sample - loss: 17.7364 - accuracy: 0.7686 - val_loss: 18.0188 - val_accuracy: 0.6099\n",
      "Epoch 87/120\n",
      "3384/3384 [==============================] - 2s 493us/sample - loss: 17.5858 - accuracy: 0.7728 - val_loss: 17.8792 - val_accuracy: 0.5910\n",
      "Epoch 88/120\n",
      "3384/3384 [==============================] - 2s 493us/sample - loss: 17.4258 - accuracy: 0.7781 - val_loss: 17.7344 - val_accuracy: 0.5863\n",
      "Epoch 89/120\n",
      "3384/3384 [==============================] - 2s 493us/sample - loss: 17.2749 - accuracy: 0.7828 - val_loss: 17.5946 - val_accuracy: 0.5816\n",
      "Epoch 90/120\n",
      "3384/3384 [==============================] - 2s 492us/sample - loss: 17.1441 - accuracy: 0.7884 - val_loss: 17.4494 - val_accuracy: 0.6123\n",
      "Epoch 91/120\n",
      "3384/3384 [==============================] - 2s 494us/sample - loss: 16.9774 - accuracy: 0.7934 - val_loss: 17.3099 - val_accuracy: 0.5887\n",
      "Epoch 92/120\n",
      "3384/3384 [==============================] - 2s 493us/sample - loss: 16.8284 - accuracy: 0.7961 - val_loss: 17.1493 - val_accuracy: 0.6170\n",
      "Epoch 93/120\n",
      "3384/3384 [==============================] - 2s 491us/sample - loss: 16.6729 - accuracy: 0.8112 - val_loss: 17.0159 - val_accuracy: 0.6028\n",
      "Epoch 94/120\n",
      "3384/3384 [==============================] - 2s 494us/sample - loss: 16.5292 - accuracy: 0.8118 - val_loss: 16.8821 - val_accuracy: 0.6028\n",
      "Epoch 95/120\n",
      "3384/3384 [==============================] - 2s 491us/sample - loss: 16.3894 - accuracy: 0.8115 - val_loss: 16.7452 - val_accuracy: 0.5957\n",
      "Epoch 96/120\n",
      "3384/3384 [==============================] - 2s 492us/sample - loss: 16.2492 - accuracy: 0.8200 - val_loss: 16.6235 - val_accuracy: 0.6005\n",
      "Epoch 97/120\n",
      "3384/3384 [==============================] - 2s 495us/sample - loss: 16.0956 - accuracy: 0.8180 - val_loss: 16.4801 - val_accuracy: 0.5910\n",
      "Epoch 98/120\n",
      "3384/3384 [==============================] - 2s 491us/sample - loss: 15.9473 - accuracy: 0.8333 - val_loss: 16.3287 - val_accuracy: 0.6052\n",
      "Epoch 99/120\n",
      "3384/3384 [==============================] - 2s 495us/sample - loss: 15.8205 - accuracy: 0.8289 - val_loss: 16.2085 - val_accuracy: 0.6123\n",
      "Epoch 100/120\n",
      "3384/3384 [==============================] - 2s 494us/sample - loss: 15.6768 - accuracy: 0.8245 - val_loss: 16.0639 - val_accuracy: 0.6170\n",
      "Epoch 101/120\n",
      "3384/3384 [==============================] - 2s 493us/sample - loss: 15.5256 - accuracy: 0.8366 - val_loss: 15.9345 - val_accuracy: 0.6076\n",
      "Epoch 102/120\n",
      "3384/3384 [==============================] - 2s 491us/sample - loss: 15.3922 - accuracy: 0.8443 - val_loss: 15.8056 - val_accuracy: 0.6217\n",
      "Epoch 103/120\n",
      "3384/3384 [==============================] - 2s 500us/sample - loss: 15.2574 - accuracy: 0.8404 - val_loss: 15.6939 - val_accuracy: 0.6099\n",
      "Epoch 104/120\n",
      "3384/3384 [==============================] - 2s 500us/sample - loss: 15.1162 - accuracy: 0.8487 - val_loss: 15.5479 - val_accuracy: 0.6265\n"
     ]
    },
    {
     "name": "stdout",
     "output_type": "stream",
     "text": [
      "Epoch 105/120\n",
      "3384/3384 [==============================] - 2s 495us/sample - loss: 14.9802 - accuracy: 0.8522 - val_loss: 15.4172 - val_accuracy: 0.6028\n",
      "Epoch 106/120\n",
      "3384/3384 [==============================] - 2s 491us/sample - loss: 14.8373 - accuracy: 0.8605 - val_loss: 15.2899 - val_accuracy: 0.6076\n",
      "Epoch 107/120\n",
      "3384/3384 [==============================] - 2s 494us/sample - loss: 14.7146 - accuracy: 0.8579 - val_loss: 15.1544 - val_accuracy: 0.6147\n",
      "Epoch 108/120\n",
      "3384/3384 [==============================] - 2s 497us/sample - loss: 14.5836 - accuracy: 0.8561 - val_loss: 15.0262 - val_accuracy: 0.6147\n",
      "Epoch 109/120\n",
      "3384/3384 [==============================] - 2s 492us/sample - loss: 14.4317 - accuracy: 0.8735 - val_loss: 14.8887 - val_accuracy: 0.6383\n",
      "Epoch 110/120\n",
      "3384/3384 [==============================] - 2s 496us/sample - loss: 14.2935 - accuracy: 0.8797 - val_loss: 14.7862 - val_accuracy: 0.6147\n",
      "Epoch 111/120\n",
      "3384/3384 [==============================] - 2s 495us/sample - loss: 14.1759 - accuracy: 0.8774 - val_loss: 14.6892 - val_accuracy: 0.5910\n",
      "Epoch 112/120\n",
      "3384/3384 [==============================] - 2s 495us/sample - loss: 14.0545 - accuracy: 0.8744 - val_loss: 14.5481 - val_accuracy: 0.6241\n",
      "Epoch 113/120\n",
      "3384/3384 [==============================] - 2s 493us/sample - loss: 13.9078 - accuracy: 0.8933 - val_loss: 14.4515 - val_accuracy: 0.5957\n",
      "Epoch 114/120\n",
      "3384/3384 [==============================] - 2s 494us/sample - loss: 13.7843 - accuracy: 0.8853 - val_loss: 14.3096 - val_accuracy: 0.6170\n",
      "Epoch 115/120\n",
      "3384/3384 [==============================] - 2s 493us/sample - loss: 13.6515 - accuracy: 0.8904 - val_loss: 14.2011 - val_accuracy: 0.6217\n",
      "Epoch 116/120\n",
      "3384/3384 [==============================] - 2s 494us/sample - loss: 13.5311 - accuracy: 0.8978 - val_loss: 14.1062 - val_accuracy: 0.6076\n",
      "Epoch 117/120\n",
      "3384/3384 [==============================] - 2s 497us/sample - loss: 13.4065 - accuracy: 0.8933 - val_loss: 13.9331 - val_accuracy: 0.6147\n",
      "Epoch 118/120\n",
      "3384/3384 [==============================] - 2s 493us/sample - loss: 13.2782 - accuracy: 0.9019 - val_loss: 13.8311 - val_accuracy: 0.6241\n",
      "Epoch 119/120\n",
      "3384/3384 [==============================] - 2s 494us/sample - loss: 13.1560 - accuracy: 0.8980 - val_loss: 13.7412 - val_accuracy: 0.6076\n",
      "Epoch 120/120\n",
      "3384/3384 [==============================] - 2s 494us/sample - loss: 13.0380 - accuracy: 0.9007 - val_loss: 13.6398 - val_accuracy: 0.5887\n"
     ]
    }
   ],
   "source": [
    "loss_hist = model_.fit(X_train_s, y_train_s, epochs=120,\n",
    "                       batch_size=282, validation_data=(X_valid_s, y_valid_s))"
   ]
  },
  {
   "cell_type": "code",
   "execution_count": 14,
   "metadata": {},
   "outputs": [
    {
     "data": {
      "text/plain": [
       "['loss', 'accuracy', 'val_loss', 'val_accuracy']"
      ]
     },
     "execution_count": 14,
     "metadata": {},
     "output_type": "execute_result"
    }
   ],
   "source": [
    "hist = loss_hist.history\n",
    "list(hist)"
   ]
  },
  {
   "cell_type": "code",
   "execution_count": 15,
   "metadata": {},
   "outputs": [
    {
     "data": {
      "text/plain": [
       "<matplotlib.legend.Legend at 0x26c5cd09f88>"
      ]
     },
     "execution_count": 15,
     "metadata": {},
     "output_type": "execute_result"
    },
    {
     "data": {
      "image/png": "[encoded data removed]",
      "text/plain": [
       "<Figure size 1080x504 with 2 Axes>"
      ]
     },
     "metadata": {
      "needs_background": "light"
     },
     "output_type": "display_data"
    }
   ],
   "source": [
    "\n",
    "plt.figure(figsize=(15, 7))\n",
    "plt.subplot(1, 2, 1)\n",
    "plt.plot(hist['accuracy'])\n",
    "plt.plot(hist['val_accuracy'])\n",
    "plt.ylabel('accuracy')\n",
    "plt.xlabel('epoch')\n",
    "plt.legend(['train', 'val'])\n",
    "\n",
    "plt.subplot(1, 2, 2)\n",
    "plt.plot(hist['loss'])\n",
    "plt.plot(hist['val_loss'])\n",
    "plt.ylabel('loss')\n",
    "plt.xlabel('epoch')\n",
    "plt.legend(['train', 'val'])"
   ]
  },
  {
   "cell_type": "code",
   "execution_count": 16,
   "metadata": {},
   "outputs": [
    {
     "name": "stdout",
     "output_type": "stream",
     "text": [
      "423/1 - 0s - loss: 13.7543 - accuracy: 0.5887\n",
      "['val loss, val acc', [13.639750446833617, 0.5886525]]\n"
     ]
    }
   ],
   "source": [
    "val_results = model_.evaluate(x=X_valid_s, y=y_valid_s, batch_size=16, verbose=2)\n",
    "print(['val loss, val acc', val_results])"
   ]
  },
  {
   "cell_type": "code",
   "execution_count": 17,
   "metadata": {},
   "outputs": [
    {
     "name": "stdout",
     "output_type": "stream",
     "text": [
      "443/1 - 0s - loss: 13.5885 - accuracy: 0.6163\n",
      "['test loss, test acc', [13.635794641740166, 0.61625284]]\n"
     ]
    }
   ],
   "source": [
    "test_results = model_.evaluate(x=X_test_s, y=y_test_s, batch_size=50, verbose=2)\n",
    "print(['test loss, test acc', test_results])"
   ]
  },
  {
   "cell_type": "code",
   "execution_count": null,
   "metadata": {},
   "outputs": [],
   "source": []
  },
  {
   "cell_type": "code",
   "execution_count": null,
   "metadata": {},
   "outputs": [],
   "source": []
  },
  {
   "cell_type": "code",
   "execution_count": null,
   "metadata": {},
   "outputs": [],
   "source": []
  },
  {
   "cell_type": "code",
   "execution_count": null,
   "metadata": {},
   "outputs": [],
   "source": []
  },
  {
   "cell_type": "code",
   "execution_count": null,
   "metadata": {},
   "outputs": [],
   "source": []
  },
  {
   "cell_type": "code",
   "execution_count": null,
   "metadata": {},
   "outputs": [],
   "source": [
    "#GRUnet = tf.keras.Sequential()\n",
    "GRUnet.add(layers.Conv1D(64, 3, strides=1, padding='valid',\n",
    "                         activation='relu', activity_regularizer=regularizers.l1(0.0005)))\n",
    "GRUnet.add(layers.MaxPooling1D(pool_size=2))\n",
    "GRUnet.add(layers.GRU(40,activity_regularizer=regularizers.l1(0.0005),\n",
    "                      dropout=0, recurrent_dropout=0.0,return_sequences=True, return_state=True))"
   ]
  },
  {
   "cell_type": "code",
   "execution_count": null,
   "metadata": {},
   "outputs": [],
   "source": []
  },
  {
   "cell_type": "code",
   "execution_count": null,
   "metadata": {},
   "outputs": [],
   "source": [
    "##### with l1_norm\n",
    "gru_net_input = layers.Input(shape=(500,22))\n",
    "\n",
    "#x = layers.UpSampling1D(size=2)(gru_net_input)\n",
    "\n",
    "#x = layers.SpatialDropout1D(0.2)(gru_net_input)\n",
    "\n",
    "#x = layers.Conv1D(64, 3, strides=1, padding='valid',activation='relu')(x)\n",
    "#x = layers.BatchNormalization(axis=-1)(x)\n",
    "#x = layers.MaxPooling1D(pool_size=2)(x)\n",
    "#x = layers.SpatialDropout1D(0.2)(x)\n",
    "\n",
    "gru, final_state = layers.GRU(40,return_sequences=True,\n",
    "                              return_state=True,\n",
    "                              kernel_regularizer=regularizers.l1(0.0005),\n",
    "                              bias_regularizer=regularizers.l1(0.0005))(gru_net_input) # hidden_dims of gru = 40\n",
    "#gru = layers.GRU(256)(x) # hidden_dims of gru = 64\n",
    "\n",
    "x = layers.Conv1D(64, 3, strides=1, padding='same',\n",
    "                  kernel_regularizer=regularizers.l1(0.0005),\n",
    "                  bias_regularizer=regularizers.l1(0.0005))(gru)\n",
    "x = layers.BatchNormalization(axis=-1)(x) # output batch*500*124\n",
    "#x = layers.ReLU()(x)\n",
    "x = layers.ELU(alpha=1)(x)\n",
    "x = layers.MaxPooling1D(pool_size=2)(x)\n",
    "x = layers.SpatialDropout1D(0.5)(x)\n",
    "\n",
    "x = layers.Conv1D(64, 3, strides=1, padding='same',\n",
    "                  kernel_regularizer=regularizers.l1(0.0005),\n",
    "                  bias_regularizer=regularizers.l1(0.0005))(x)\n",
    "x = layers.BatchNormalization(axis=-1)(x) # output batch*500*124\n",
    "#x = layers.ReLU()(x)\n",
    "x = layers.ELU(alpha=1)(x)\n",
    "x = layers.MaxPooling1D(pool_size=2)(x)\n",
    "x = layers.SpatialDropout1D(0.5)(x)\n",
    "\n",
    "x = layers.Reshape((int(125*64),))(x)\n",
    "\n",
    "x = layers.Dense(300,kernel_regularizer=regularizers.l1(0.0005),\n",
    "                 bias_regularizer=regularizers.l1(0.0005))(x) # output batch*64*64  the last dimension is sequence\n",
    "x = layers.BatchNormalization(axis=-1)(x) # after permute to axis=1\n",
    "x = layers.ELU(alpha=1)(x)\n",
    "#x = layers.ReLU()(x)\n",
    "x = layers.Dropout(0.8)(x)\n",
    "\n",
    "x = layers.Dense(40,kernel_regularizer=regularizers.l1(0.0005),\n",
    "                 bias_regularizer=regularizers.l1(0.0005))(x) # output batch*64*64  the last dimension is sequence\n",
    "x = layers.BatchNormalization(axis=-1)(x) # after permute to axis=1\n",
    "x = layers.ELU(alpha=1)(x)\n",
    "#x = layers.ReLU()(x)\n",
    "x = layers.Dropout(0.8)(x)\n",
    "\n",
    "output = layers.Dense(4, activation='softmax',\n",
    "                      kernel_regularizer=regularizers.l1(0.0005),\n",
    "                      bias_regularizer=regularizers.l1(0.0005))(x)\n",
    "\n",
    "model_ = keras.Model(gru_net_input, output)\n",
    "model_.summary()\n"
   ]
  },
  {
   "cell_type": "code",
   "execution_count": null,
   "metadata": {},
   "outputs": [],
   "source": [
    "gru_net_input = layers.Input(shape=(500,22))\n",
    "\n",
    "x = layers.SpatialDropout1D(0.2)(gru_net_input)\n",
    "x = layers.Conv1D(64, 3, strides=1, padding='valid',\n",
    "                  activation='relu')(x)\n",
    "x = layers.BatchNormalization(axis=-1)(x)\n",
    "x = layers.MaxPooling1D(pool_size=2)(x)\n",
    "x = layers.Dropout(0.5)(x)\n",
    "\n",
    "#gru, final_state = layers.GRU(124,return_sequences=True, return_state=True)(x) # hidden_dims of gru = 64\n",
    "gru = layers.GRU(256,return_sequences=True, return_state=True)(x) # hidden_dims of gru = 64\n",
    "\n",
    "#x = layers.Conv1D(64, 3, strides=1, padding='same',activation='relu')(gru_out)\n",
    "x = layers.BatchNormalization(axis=-1)(gru) # output batch*249*64\n",
    "#x = layers.MaxPooling1D(pool_size=2)(x)\n",
    "\n",
    "#x = layers.Permute((2,1))(x)\n",
    "x = layers.Dense(64, activation='relu')(x) # output batch*64*64  the last dimension is sequence\n",
    "x = layers.BatchNormalization(axis=1)(x) # after permute to axis=1\n",
    "#x = layers.Permute((2,1))(x)\n",
    "x = layers.Dropout(0.8)(x)\n",
    "\n",
    "#x = layers.Reshape((int(124*64),))(x)\n",
    "x = layers.Dense(1024, activation='relu')(x)\n",
    "x = layers.BatchNormalization(axis=-1)(x)\n",
    "x = layers.Dropout(0.8)(x)\n",
    "\n",
    "x = layers.Dense(128, activation='relu')(x)\n",
    "x = layers.BatchNormalization(axis=-1)(x)\n",
    "x = layers.Dropout(0.8)(x)\n",
    "\n",
    "output = layers.Dense(4, activation='softmax')(x)\n",
    "\n",
    "model = keras.Model(gru_net_input, output)\n",
    "model.summary()\n"
   ]
  }
 ],
 "metadata": {
  "kernelspec": {
   "display_name": "Python 3",
   "language": "python",
   "name": "python3"
  },
  "language_info": {
   "codemirror_mode": {
    "name": "ipython",
    "version": 3
   },
   "file_extension": ".py",
   "mimetype": "text/x-python",
   "name": "python",
   "nbconvert_exporter": "python",
   "pygments_lexer": "ipython3",
   "version": "3.7.5"
  }
 },
 "nbformat": 4,
 "nbformat_minor": 2
}
