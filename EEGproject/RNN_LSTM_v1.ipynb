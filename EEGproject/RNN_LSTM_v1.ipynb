{
 "cells": [
  {
   "cell_type": "code",
   "execution_count": 22,
   "metadata": {},
   "outputs": [],
   "source": [
    "import numpy as np\n",
    "import matplotlib.pyplot as plt\n",
    "import time\n",
    "import torch\n",
    "import torch.nn as nn\n",
    "import torch.nn.functional as F\n",
    "import torch.optim as optim\n",
    "from collections import Counter\n",
    "from torch.utils.data import DataLoader\n",
    "\n",
    "X_test = np.load(\"X_test.npy\")\n",
    "y_test = np.load(\"y_test.npy\")\n",
    "person_train_valid = np.load(\"person_train_valid.npy\")\n",
    "X_train_valid = np.load(\"X_train_valid.npy\")\n",
    "y_train_valid = np.load(\"y_train_valid.npy\")\n",
    "person_test = np.load(\"person_test.npy\")\n"
   ]
  },
  {
   "cell_type": "code",
   "execution_count": 23,
   "metadata": {},
   "outputs": [
    {
     "name": "stdout",
     "output_type": "stream",
     "text": [
      "Training/Valid data shape: (2115, 22, 1000)\n",
      "Test data shape: (443, 22, 1000)\n",
      "Training/Valid target shape: (2115,)\n",
      "Test target shape: (443,)\n",
      "Person train/valid shape: (2115, 1)\n",
      "Person test shape: (443, 1)\n"
     ]
    }
   ],
   "source": [
    "print ('Training/Valid data shape: {}'.format(X_train_valid.shape))\n",
    "print ('Test data shape: {}'.format(X_test.shape))\n",
    "print ('Training/Valid target shape: {}'.format(y_train_valid.shape))\n",
    "print ('Test target shape: {}'.format(y_test.shape))\n",
    "print ('Person train/valid shape: {}'.format(person_train_valid.shape))\n",
    "print ('Person test shape: {}'.format(person_test.shape))"
   ]
  },
  {
   "cell_type": "code",
   "execution_count": 24,
   "metadata": {},
   "outputs": [
    {
     "data": {
      "text/plain": [
       "(array([111.,   0.,   0., 127.,   0.,   0.,  96.,   0.,   0., 109.]),\n",
       " array([769. , 769.3, 769.6, 769.9, 770.2, 770.5, 770.8, 771.1, 771.4,\n",
       "        771.7, 772. ]),\n",
       " <a list of 10 Patch objects>)"
      ]
     },
     "execution_count": 24,
     "metadata": {},
     "output_type": "execute_result"
    },
    {
     "data": {
      "image/png": "[encoded data removed]",
      "text/plain": [
       "<Figure size 1080x360 with 2 Axes>"
      ]
     },
     "metadata": {
      "needs_background": "light"
     },
     "output_type": "display_data"
    }
   ],
   "source": [
    "plt.figure(figsize=(15, 5))\n",
    "plt.subplot(1, 2, 1)\n",
    "plt.hist(y_train_valid)\n",
    "plt.subplot(1, 2, 2)\n",
    "plt.hist(y_test)"
   ]
  },
  {
   "cell_type": "code",
   "execution_count": 25,
   "metadata": {},
   "outputs": [],
   "source": [
    "y_train_valid -= 769\n",
    "y_test -= 769"
   ]
  },
  {
   "cell_type": "code",
   "execution_count": 26,
   "metadata": {},
   "outputs": [],
   "source": [
    "class Dataset(torch.utils.data.Dataset):\n",
    "    def __init__(self,X,Y):\n",
    "        self.X = torch.FloatTensor(X)\n",
    "        self.Y = torch.LongTensor(Y)\n",
    "        \n",
    "    def __len__(self):\n",
    "        return len(self.X)\n",
    "    \n",
    "    def __getitem__(self, index):\n",
    "        return self.X[index],self.Y[index]"
   ]
  },
  {
   "cell_type": "code",
   "execution_count": 27,
   "metadata": {},
   "outputs": [],
   "source": [
    "# For subject 1\n",
    "X_train_valid_1 = X_train_valid[np.where(person_train_valid==0)[0]]\n",
    "y_train_valid_1 = y_train_valid[np.where(person_train_valid==0)[0]]\n",
    "X_test_1 = X_test[np.where(person_test==0)[0]]\n",
    "y_test_1 = y_test[np.where(person_test==0)[0]]"
   ]
  },
  {
   "cell_type": "code",
   "execution_count": 28,
   "metadata": {},
   "outputs": [],
   "source": [
    "from sklearn.model_selection import train_test_split\n",
    "X_train_1, X_valid_1, y_train_1, y_valid_1 = train_test_split(X_train_valid_1, y_train_valid_1,\n",
    "                                                              test_size=0.2,shuffle=True)\n",
    "X_train_1 = X_train_1.transpose(0,2,1)\n",
    "X_valid_1 = X_valid_1.transpose(0,2,1)\n",
    "X_test_1 = X_test_1.transpose(0,2,1)\n",
    "train_set_1 = Dataset(X_train_1,y_train_1)\n",
    "val_set_1 = Dataset(X_valid_1,y_valid_1)\n",
    "test_set_1 = Dataset(X_test_1, y_test_1)\n",
    "train_loader_1 = torch.utils.data.DataLoader(train_set_1,batch_size=32,shuffle=True)\n",
    "val_loader_1 = torch.utils.data.DataLoader(val_set_1,batch_size=8,shuffle=True)\n",
    "test_loader_1 = torch.utils.data.DataLoader(test_set_1,batch_size=10,shuffle=True)"
   ]
  },
  {
   "cell_type": "code",
   "execution_count": 29,
   "metadata": {},
   "outputs": [],
   "source": [
    "class RNNClassifier(nn.Module):\n",
    "    def __init__(self, input_dim, hidden_dim, output_dim):\n",
    "        super(RNNClassifier, self).__init__()\n",
    "        \n",
    "        self.rnn = nn.RNN(input_dim, hidden_dim, batch_first = True)\n",
    "        self.fc = nn.Linear(hidden_dim, output_dim)\n",
    "    \n",
    "    def forward(self, x, h=None):\n",
    "        if type(h) == type(None):\n",
    "            out, hn = self.rnn(x)\n",
    "        else:\n",
    "            out, hn = self.rnn(x, h.detach())\n",
    "        out = self.fc(out[:, -1, :])\n",
    "        return out"
   ]
  },
  {
   "cell_type": "code",
   "execution_count": 30,
   "metadata": {},
   "outputs": [],
   "source": [
    "class LSTM(nn.Module):\n",
    "    def __init__(self, input_dim, hidden_dim, output_dim):\n",
    "        super(LSTM, self).__init__()\n",
    "        \n",
    "        self.LSTM = nn.LSTM(input_dim, hidden_dim, batch_first = True, dropout = 0)\n",
    "        self.fc = nn.Linear(hidden_dim, output_dim)\n",
    "    \n",
    "    def forward(self, x, h=None, c=None):\n",
    "        if type(h) == type(None) and type(c) == type(None):\n",
    "            out, (hn, cn) = self.LSTM(x)\n",
    "        else:\n",
    "            out, (hn, cn) = self.LSTM(x, h.detach(), c.detach())\n",
    "        out = self.fc(out[:, -1, :])\n",
    "        return out"
   ]
  },
  {
   "cell_type": "code",
   "execution_count": 31,
   "metadata": {},
   "outputs": [],
   "source": [
    "input_dim = 22\n",
    "hidden_dim = 40\n",
    "output_dim = 4\n",
    "model = LSTM(input_dim, hidden_dim, output_dim)\n",
    "#model.cuda()\n",
    "criterion = nn.CrossEntropyLoss()\n",
    "optimizer = torch.optim.RMSprop(model.parameters(),lr=0.001)"
   ]
  },
  {
   "cell_type": "code",
   "execution_count": 32,
   "metadata": {},
   "outputs": [
    {
     "name": "stdout",
     "output_type": "stream",
     "text": [
      "epoch: 1      time: 6.21    loss: 7.693    train acc: 0.466    val acc: 0.250\n",
      "epoch: 2      time: 6.85    loss: 7.432    train acc: 0.524    val acc: 0.271\n",
      "epoch: 3      time: 6.85    loss: 7.185    train acc: 0.577    val acc: 0.229\n",
      "epoch: 4      time: 6.62    loss: 7.003    train acc: 0.571    val acc: 0.208\n",
      "epoch: 5      time: 6.55    loss: 6.777    train acc: 0.614    val acc: 0.208\n",
      "epoch: 6      time: 7.28    loss: 6.607    train acc: 0.667    val acc: 0.188\n",
      "epoch: 7      time: 6.66    loss: 6.537    train acc: 0.646    val acc: 0.208\n",
      "epoch: 8      time: 6.38    loss: 6.275    train acc: 0.656    val acc: 0.146\n",
      "epoch: 9      time: 6.92    loss: 6.059    train acc: 0.741    val acc: 0.125\n",
      "epoch: 10     time: 8.69    loss: 5.901    train acc: 0.741    val acc: 0.125\n",
      "epoch: 11     time: 8.54    loss: 5.788    train acc: 0.746    val acc: 0.125\n",
      "epoch: 12     time: 9.25    loss: 5.681    train acc: 0.772    val acc: 0.146\n",
      "epoch: 13     time: 10.87    loss: 5.495    train acc: 0.772    val acc: 0.146\n",
      "epoch: 14     time: 8.61    loss: 5.360    train acc: 0.767    val acc: 0.208\n",
      "epoch: 15     time: 9.11    loss: 5.184    train acc: 0.831    val acc: 0.167\n",
      "epoch: 16     time: 9.44    loss: 5.055    train acc: 0.810    val acc: 0.208\n",
      "epoch: 17     time: 9.41    loss: 4.937    train acc: 0.862    val acc: 0.208\n",
      "epoch: 18     time: 9.06    loss: 4.814    train acc: 0.847    val acc: 0.188\n",
      "epoch: 19     time: 8.57    loss: 4.691    train acc: 0.857    val acc: 0.208\n",
      "epoch: 20     time: 9.18    loss: 4.588    train acc: 0.857    val acc: 0.167\n",
      "epoch: 21     time: 7.23    loss: 4.447    train acc: 0.873    val acc: 0.188\n",
      "epoch: 22     time: 6.61    loss: 4.352    train acc: 0.868    val acc: 0.208\n",
      "epoch: 23     time: 8.53    loss: 4.208    train acc: 0.889    val acc: 0.188\n",
      "epoch: 24     time: 8.97    loss: 4.221    train acc: 0.894    val acc: 0.188\n",
      "epoch: 25     time: 8.33    loss: 3.967    train acc: 0.905    val acc: 0.208\n",
      "epoch: 26     time: 9.72    loss: 3.859    train acc: 0.915    val acc: 0.229\n",
      "epoch: 27     time: 9.45    loss: 3.745    train acc: 0.921    val acc: 0.208\n",
      "epoch: 28     time: 9.34    loss: 3.698    train acc: 0.899    val acc: 0.208\n",
      "epoch: 29     time: 8.81    loss: 3.561    train acc: 0.937    val acc: 0.208\n",
      "epoch: 30     time: 9.66    loss: 3.593    train acc: 0.915    val acc: 0.271\n",
      "Total time: 247.717 seconds, average time per epoch: 8.257\n"
     ]
    }
   ],
   "source": [
    "val_acc_history = []\n",
    "train_acc_history = []\n",
    "train_loss_history = []\n",
    "val_loss_history = []\n",
    "t0 = time.time()\n",
    "num_epochs = 30\n",
    "for epoch in range(num_epochs):\n",
    "    tstart = time.time()\n",
    "    for i, data in enumerate(train_loader_1):\n",
    "        inputs, labels = data\n",
    "        model.train()\n",
    "        optimizer.zero_grad()\n",
    "        outputs = model(inputs)\n",
    "        loss = criterion(outputs, labels)\n",
    "        loss.backward()\n",
    "        optimizer.step()\n",
    "        \n",
    "        _,predicted = torch.max(outputs.data, 1)\n",
    "        train_acc = (predicted == labels).sum().item() / len(labels)\n",
    "    model.eval()\n",
    "    train_correct, train_total = 0, 0\n",
    "    train_loss = 0\n",
    "    for train_data in train_loader_1:\n",
    "        train_inputs, train_labels = train_data\n",
    "        train_outputs = model(train_inputs)\n",
    "        _, train_predicted = torch.max(train_outputs.data, 1)\n",
    "        train_total += train_labels.size(0)\n",
    "        train_correct += (train_predicted == train_labels).sum().item()\n",
    "        train_loss += criterion(train_outputs, train_labels).item()\n",
    "    train_acc = train_correct / train_total\n",
    "    train_acc_history.append(train_acc)\n",
    "    train_loss_history.append(train_loss)\n",
    "        \n",
    "    #pXtrain = model(Xtrain)\n",
    "    #ptrain = torch.argmax(pXtrain, axis = 1)\n",
    "    #train_acc = np.mean(ptrain.numpy() == ytrain.numpy())\n",
    "    #train_accs.append(train_acc)\n",
    "    #tloss = criterion(pXtrain, ytrain)\n",
    "    #train_losses.append(tloss.item())\n",
    "    \n",
    "    val_correct, val_total = 0, 0\n",
    "    val_loss = 0\n",
    "    for val_data in val_loader_1:\n",
    "        val_images, val_labels = val_data\n",
    "        val_outputs = model(val_images)\n",
    "        _, val_predicted = torch.max(val_outputs.data, 1)\n",
    "        val_total += val_labels.size(0)\n",
    "        val_correct += (val_predicted == val_labels).sum().item()\n",
    "        val_loss += criterion(val_outputs, val_labels).item()\n",
    "    val_acc = val_correct / val_total\n",
    "    val_acc_history.append(val_acc)\n",
    "    val_loss_history.append(val_loss)\n",
    "    \n",
    "    #pXval = model(Xval)\n",
    "    #pval = torch.argmax(pXval, axis = 1)\n",
    "    #val_acc = np.mean(pval.numpy() == yval.numpy())\n",
    "    #val_accs.append(val_acc)\n",
    "    #vloss = criterion(pXval, yval)\n",
    "    #val_losses.append(vloss.item())\n",
    "    tend = time.time()\n",
    "    print('epoch: {:<3d}    time: {:<3.2f}    loss: {:<3.3f}    train acc: {:<1.3f}    val acc: {:<1.3f}'.format(epoch+1, \n",
    "            tend - tstart, train_loss, train_acc, val_acc))\n",
    "time_total = time.time() - t0\n",
    "print('Total time: {:4.3f} seconds, average time per epoch: {:4.3f}'.format(time_total, time_total / num_epochs))"
   ]
  },
  {
   "cell_type": "code",
   "execution_count": 33,
   "metadata": {},
   "outputs": [
    {
     "data": {
      "text/plain": [
       "<matplotlib.legend.Legend at 0x15925f128>"
      ]
     },
     "execution_count": 33,
     "metadata": {},
     "output_type": "execute_result"
    },
    {
     "data": {
      "image/png": "[encoded data removed]",
      "text/plain": [
       "<Figure size 1080x504 with 2 Axes>"
      ]
     },
     "metadata": {
      "needs_background": "light"
     },
     "output_type": "display_data"
    }
   ],
   "source": [
    "plt.figure(figsize=(15, 7))\n",
    "plt.subplot(1, 2, 1)\n",
    "plt.plot(train_acc_history)\n",
    "plt.plot(val_acc_history)\n",
    "plt.title('training and validation accuracy')\n",
    "plt.xlabel('epoch')\n",
    "plt.ylabel('accuracy')\n",
    "plt.legend(['train', 'val'])\n",
    "plt.subplot(1, 2, 2)\n",
    "plt.plot(train_loss_history)\n",
    "plt.plot(val_loss_history)\n",
    "plt.title('loss history')\n",
    "plt.xlabel('epoch')\n",
    "plt.ylabel('loss')\n",
    "plt.legend(['train', 'val'])"
   ]
  },
  {
   "cell_type": "code",
   "execution_count": null,
   "metadata": {},
   "outputs": [],
   "source": []
  }
 ],
 "metadata": {
  "kernelspec": {
   "display_name": "Python 3",
   "language": "python",
   "name": "python3"
  },
  "language_info": {
   "codemirror_mode": {
    "name": "ipython",
    "version": 3
   },
   "file_extension": ".py",
   "mimetype": "text/x-python",
   "name": "python",
   "nbconvert_exporter": "python",
   "pygments_lexer": "ipython3",
   "version": "3.7.3"
  }
 },
 "nbformat": 4,
 "nbformat_minor": 2
}
