{
 "cells": [
  {
   "cell_type": "code",
   "execution_count": 137,
   "metadata": {},
   "outputs": [],
   "source": [
    "import numpy as np\n",
    "import torch \n",
    "import torch.nn as nn \n",
    "import torch.nn.functional as F\n",
    "import torch.optim as optim\n",
    "from torch.utils.tensorboard import SummaryWriter\n",
    "\n",
    "X_test = np.load(\"X_test.npy\")\n",
    "y_test = np.load(\"y_test.npy\")\n",
    "person_train_valid = np.load(\"person_train_valid.npy\")\n",
    "X_train_valid = np.load(\"X_train_valid.npy\")\n",
    "y_train_valid = np.load(\"y_train_valid.npy\")\n",
    "person_test = np.load(\"person_test.npy\")\n"
   ]
  },
  {
   "cell_type": "code",
   "execution_count": 138,
   "metadata": {},
   "outputs": [
    {
     "name": "stdout",
     "output_type": "stream",
     "text": [
      "Training/Valid data shape: (2115, 22, 1000)\n",
      "Test data shape: (443, 22, 1000)\n",
      "Training/Valid target shape: (2115,)\n",
      "Test target shape: (443,)\n",
      "Person train/valid shape: (2115, 1)\n",
      "Person test shape: (443, 1)\n"
     ]
    }
   ],
   "source": [
    "y_test = y_test - 769\n",
    "y_train_valid = y_train_valid - 769\n",
    "print ('Training/Valid data shape: {}'.format(X_train_valid.shape))\n",
    "print ('Test data shape: {}'.format(X_test.shape))\n",
    "print ('Training/Valid target shape: {}'.format(y_train_valid.shape))\n",
    "print ('Test target shape: {}'.format(y_test.shape))\n",
    "print ('Person train/valid shape: {}'.format(person_train_valid.shape))\n",
    "print ('Person test shape: {}'.format(person_test.shape))\n",
    "\n"
   ]
  },
  {
   "cell_type": "code",
   "execution_count": 139,
   "metadata": {},
   "outputs": [],
   "source": [
    "# For subject 1\n",
    "X_train_valid_1 = X_train_valid[np.where(person_train_valid==0)[0]]\n",
    "y_train_valid_1 = y_train_valid[np.where(person_train_valid==0)[0]]\n",
    "X_test_1 = X_test[np.where(person_test==0)[0]]\n",
    "y_test_1 = y_test[np.where(person_test==0)[0]]"
   ]
  },
  {
   "cell_type": "code",
   "execution_count": 140,
   "metadata": {},
   "outputs": [],
   "source": [
    "class Dataset(torch.utils.data.Dataset):\n",
    "    def __init__(self,X,Y):\n",
    "        self.X = torch.FloatTensor(X)\n",
    "        self.Y = torch.LongTensor(Y)\n",
    "        \n",
    "    def __len__(self):\n",
    "        return len(self.X)\n",
    "    \n",
    "    def __getitem__(self, index):\n",
    "        return self.X[index],self.Y[index]"
   ]
  },
  {
   "cell_type": "code",
   "execution_count": 141,
   "metadata": {},
   "outputs": [],
   "source": [
    "from sklearn.model_selection import train_test_split\n",
    "X_train_1, X_valid_1, y_train_1, y_valid_1 = train_test_split(X_train_valid_1, y_train_valid_1,\n",
    "                                                              test_size=0.15,shuffle=True)\n",
    "#X_train_1 = X_train_1.reshape(X_train_1.shape[0],1,X_train_1.shape[1],X_train_1.shape[2])\n",
    "#X_valid_1 = X_valid_1.reshape(X_valid_1.shape[0],1,X_valid_1.shape[1],X_valid_1.shape[2])\n",
    "#X_test_1 = X_test_1.reshape(X_test_1.shape[0],1,X_test_1.shape[1],X_test_1.shape[2])\n",
    "\n",
    "train_set_1 = Dataset(X_train_1,y_train_1)\n",
    "val_set_1 = Dataset(X_valid_1,y_valid_1)\n",
    "test_set_1 = Dataset(X_test_1, y_test_1)\n",
    "train_loader_1 = torch.utils.data.DataLoader(train_set_1,batch_size=24,shuffle=True)\n",
    "val_loader_1 = torch.utils.data.DataLoader(val_set_1,batch_size=6,shuffle=True)\n",
    "test_loader_1 = torch.utils.data.DataLoader(test_set_1,batch_size=5,shuffle=True)"
   ]
  },
  {
   "cell_type": "code",
   "execution_count": 142,
   "metadata": {},
   "outputs": [
    {
     "name": "stdout",
     "output_type": "stream",
     "text": [
      "248.0\n"
     ]
    }
   ],
   "source": [
    "print(496/2)"
   ]
  },
  {
   "cell_type": "code",
   "execution_count": 146,
   "metadata": {},
   "outputs": [
    {
     "name": "stdout",
     "output_type": "stream",
     "text": [
      "Net(\n",
      "  (conv1): Conv1d(22, 40, kernel_size=(2,), stride=(2,))\n",
      "  (bn1): BatchNorm1d(40, eps=1e-05, momentum=0.1, affine=True, track_running_stats=True)\n",
      "  (conv2): Conv1d(40, 60, kernel_size=(3,), stride=(1,))\n",
      "  (bn2): BatchNorm1d(60, eps=1e-05, momentum=0.1, affine=True, track_running_stats=True)\n",
      "  (pool1): MaxPool1d(kernel_size=2, stride=2, padding=0, dilation=1, ceil_mode=False)\n",
      "  (conv3): Conv1d(60, 80, kernel_size=(3,), stride=(1,))\n",
      "  (bn3): BatchNorm1d(80, eps=1e-05, momentum=0.1, affine=True, track_running_stats=True)\n",
      "  (conv4): Conv1d(80, 100, kernel_size=(3,), stride=(1,))\n",
      "  (bn4): BatchNorm1d(100, eps=1e-05, momentum=0.1, affine=True, track_running_stats=True)\n",
      "  (conv5): Conv1d(100, 120, kernel_size=(3,), stride=(2,))\n",
      "  (bn5): BatchNorm1d(120, eps=1e-05, momentum=0.1, affine=True, track_running_stats=True)\n",
      "  (pool2): MaxPool1d(kernel_size=2, stride=2, padding=0, dilation=1, ceil_mode=False)\n",
      "  (fc1): Linear(in_features=7320, out_features=300, bias=True)\n",
      "  (bn6): BatchNorm1d(300, eps=1e-05, momentum=0.1, affine=True, track_running_stats=True)\n",
      "  (drop1): Dropout(p=0.8, inplace=False)\n",
      "  (fc2): Linear(in_features=300, out_features=40, bias=True)\n",
      "  (bn7): BatchNorm1d(40, eps=1e-05, momentum=0.1, affine=True, track_running_stats=True)\n",
      "  (drop2): Dropout(p=0.8, inplace=False)\n",
      "  (fc3): Linear(in_features=40, out_features=4, bias=True)\n",
      ")\n"
     ]
    }
   ],
   "source": [
    "# [conv-relu]*2 -> 1*4 max-pooling -> [conv-relu]*3 -> 2*5 max_pooling -> (affine-relu)*2 -> affine -> softmax\n",
    "class Net(nn.Module):\n",
    "    def __init__(self):\n",
    "        super(Net,self).__init__()  # initial the model\n",
    "        self.conv1 = nn.Conv1d(22,40,kernel_size = 2,stride = 2) \n",
    "        self.bn1 = nn.BatchNorm1d(40)\n",
    "        self.conv2 = nn.Conv1d(40,60,kernel_size = 3,stride = 1) \n",
    "        self.bn2 = nn.BatchNorm1d(60) \n",
    "        self.pool1 = nn.MaxPool1d(2,2) \n",
    "        \n",
    "        self.conv3 = nn.Conv1d(60,80,kernel_size = 3, stride = 1) \n",
    "        self.bn3 = nn.BatchNorm1d(80)\n",
    "        self.conv4 = nn.Conv1d(80,100,kernel_size = 3, stride = 1) \n",
    "        self.bn4 = nn.BatchNorm1d(100)\n",
    "        self.conv5 = nn.Conv1d(100,120,kernel_size = 3, stride = 2) #120*122\n",
    "        self.bn5 = nn.BatchNorm1d(120)\n",
    "        self.pool2 = nn.MaxPool1d(2,2) #120*61\n",
    "        \n",
    "        self.fc1 = nn.Linear(120*61, 300) # input dim , output dim\n",
    "        self.bn6 = nn.BatchNorm1d(300)\n",
    "        self.drop1 = nn.Dropout(0.8)\n",
    "        self.fc2 = nn.Linear(300,40)  \n",
    "        self.bn7 = nn.BatchNorm1d(40)\n",
    "        self.drop2 = nn.Dropout(0.8)\n",
    "        self.fc3 = nn.Linear(40,4)\n",
    " \n",
    "    def forward(self,x):\n",
    "        x = self.pool1(F.elu(self.bn2(self.conv2(F.elu(self.bn1(self.conv1(x)))))))\n",
    "        x = F.elu(self.bn3(self.conv3(x)))\n",
    "        x = F.elu(self.bn4(self.conv4(x)))\n",
    "        x = self.pool2(F.elu(self.bn5(self.conv5(x))))\n",
    "        x = self.drop1(x)\n",
    "        x = x.view(-1,120*61)\n",
    "        \n",
    "        x = self.drop1(F.elu(self.bn6(self.fc1(x))))\n",
    "        x = self.drop2(F.elu(self.bn7(self.fc2(x))))\n",
    "        x = self.fc3(x)\n",
    "        return x\n",
    "net = Net()\n",
    "print(net)\n",
    "criterion = nn.CrossEntropyLoss()\n",
    "#optimizer = torch.optim.Adam(net.parameters(),lr = 0.01)\n",
    "optimizer = torch.optim.RMSprop(net.parameters(),lr = 0.001)"
   ]
  },
  {
   "cell_type": "code",
   "execution_count": null,
   "metadata": {},
   "outputs": [],
   "source": []
  },
  {
   "cell_type": "code",
   "execution_count": 147,
   "metadata": {},
   "outputs": [
    {
     "name": "stdout",
     "output_type": "stream",
     "text": [
      "Epoch 0 | Iter1 | Loss2.0821 | TrainAcc0.1667 | val acc 0.4167\n",
      "Epoch 1 | Iter1 | Loss1.3877 | TrainAcc0.1250 | val acc 0.4167\n",
      "Epoch 2 | Iter1 | Loss1.3540 | TrainAcc0.3333 | val acc 0.4167\n",
      "Epoch 3 | Iter1 | Loss1.5684 | TrainAcc0.4167 | val acc 0.4167\n",
      "Epoch 4 | Iter1 | Loss1.0573 | TrainAcc0.4583 | val acc 0.4167\n",
      "Epoch 5 | Iter1 | Loss1.2202 | TrainAcc0.4167 | val acc 0.6389\n",
      "Epoch 6 | Iter1 | Loss1.2524 | TrainAcc0.3750 | val acc 0.5556\n",
      "Epoch 7 | Iter1 | Loss0.9622 | TrainAcc0.5833 | val acc 0.6389\n",
      "Epoch 8 | Iter1 | Loss1.0543 | TrainAcc0.5833 | val acc 0.5833\n",
      "Epoch 9 | Iter1 | Loss0.9987 | TrainAcc0.5833 | val acc 0.5278\n",
      "Epoch 10 | Iter1 | Loss0.8106 | TrainAcc0.7917 | val acc 0.7222\n",
      "Epoch 11 | Iter1 | Loss0.8228 | TrainAcc0.7083 | val acc 0.6667\n",
      "Epoch 12 | Iter1 | Loss0.9660 | TrainAcc0.6250 | val acc 0.7222\n",
      "Epoch 13 | Iter1 | Loss0.7472 | TrainAcc0.7083 | val acc 0.7778\n",
      "Epoch 14 | Iter1 | Loss1.0672 | TrainAcc0.5000 | val acc 0.7778\n",
      "Epoch 15 | Iter1 | Loss0.9716 | TrainAcc0.3750 | val acc 0.7222\n",
      "Epoch 16 | Iter1 | Loss0.7858 | TrainAcc0.7917 | val acc 0.7222\n",
      "Epoch 17 | Iter1 | Loss0.8027 | TrainAcc0.6250 | val acc 0.7222\n",
      "Epoch 18 | Iter1 | Loss0.6366 | TrainAcc0.7500 | val acc 0.8333\n",
      "Epoch 19 | Iter1 | Loss0.9900 | TrainAcc0.5417 | val acc 0.6667\n",
      "Test accuracy is:  0.52\n"
     ]
    }
   ],
   "source": [
    "for epoch in range(20):\n",
    "    for i , data in enumerate(train_loader_1, 0):\n",
    "        inputs, labels = data\n",
    "        \n",
    "        net.train()\n",
    "        \n",
    "        optimizer.zero_grad()\n",
    "\n",
    "        outputs = net(inputs)\n",
    "        loss = criterion(outputs, labels)\n",
    "        loss.backward()\n",
    "        optimizer.step()\n",
    "        \n",
    "        _,predicted = torch.max(outputs.data, 1)\n",
    "        train_acc = (predicted == labels).sum().item() / len(labels)\n",
    "        \n",
    "        if i % 100 == 1:\n",
    "            net.eval()\n",
    "            val_correct, val_total = 0, 0 \n",
    "            for val_data in val_loader_1:\n",
    "                val_images, val_labels = val_data\n",
    "                val_outputs = net(val_images)\n",
    "                _, val_predicted = torch.max(val_outputs.data, 1)\n",
    "                val_total += val_labels.size(0)\n",
    "                val_correct += (val_predicted == val_labels).sum().item()\n",
    "            val_acc = val_correct / val_total\n",
    "            print('Epoch {} | Iter{} | Loss{:.4f} | TrainAcc{:.4f} | val acc {:.4f}'.format(\n",
    "                epoch, i , loss, train_acc, val_acc))\n",
    "            #writer.add_scalar('Train/Loss',loss,epoch*len(train_loader_1) + i)\n",
    "            #writer.add_scalar('Train/ACC',train_acc,epoch*len(train_loader_1) + i)\n",
    "            #writer.add_scalar('VAL/ACC',val_acc,epoch*len(train_loader_1) + i)\n",
    "test_correct, test_total = 0, 0\n",
    "for test_data in test_loader_1:\n",
    "    test_images, test_labels = test_data\n",
    "    test_outputs = net(test_images)\n",
    "    _, test_predicted = torch.max(test_outputs.data, 1)\n",
    "    test_total += test_labels.size(0)\n",
    "    test_correct += (test_predicted == test_labels).sum().item()\n",
    "test_acc = test_correct / test_total\n",
    "print('Test accuracy is: ',test_acc)"
   ]
  },
  {
   "cell_type": "code",
   "execution_count": 145,
   "metadata": {},
   "outputs": [
    {
     "name": "stdout",
     "output_type": "stream",
     "text": [
      "346500\n"
     ]
    }
   ],
   "source": [
    "print(70*4950)"
   ]
  },
  {
   "cell_type": "code",
   "execution_count": null,
   "metadata": {},
   "outputs": [],
   "source": []
  },
  {
   "cell_type": "code",
   "execution_count": null,
   "metadata": {},
   "outputs": [],
   "source": []
  }
 ],
 "metadata": {
  "kernelspec": {
   "display_name": "Python 3",
   "language": "python",
   "name": "python3"
  },
  "language_info": {
   "codemirror_mode": {
    "name": "ipython",
    "version": 3
   },
   "file_extension": ".py",
   "mimetype": "text/x-python",
   "name": "python",
   "nbconvert_exporter": "python",
   "pygments_lexer": "ipython3",
   "version": "3.7.3"
  }
 },
 "nbformat": 4,
 "nbformat_minor": 2
}
