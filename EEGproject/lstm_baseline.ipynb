{
 "cells": [
  {
   "cell_type": "code",
   "execution_count": 1,
   "metadata": {},
   "outputs": [],
   "source": [
    "import tensorflow as tf\n",
    "from tensorflow import keras\n",
    "import numpy as np\n",
    "import matplotlib.pyplot as plt\n",
    "from tensorflow.keras import layers\n",
    "from tensorflow.keras import Model\n",
    "#from tensorflow.train import exponential_decay"
   ]
  },
  {
   "cell_type": "code",
   "execution_count": 2,
   "metadata": {},
   "outputs": [],
   "source": [
    "X_test = np.load(\"X_test.npy\")\n",
    "y_test = np.load(\"y_test.npy\")\n",
    "person_train_valid = np.load(\"person_train_valid.npy\")\n",
    "X_train_valid = np.load(\"X_train_valid.npy\")\n",
    "y_train_valid = np.load(\"y_train_valid.npy\")\n",
    "person_test = np.load(\"person_test.npy\")"
   ]
  },
  {
   "cell_type": "code",
   "execution_count": 3,
   "metadata": {},
   "outputs": [
    {
     "name": "stdout",
     "output_type": "stream",
     "text": [
      "Training/Valid data shape: (2115, 22, 1000)\n",
      "Test data shape: (443, 22, 1000)\n",
      "Training/Valid target shape: (2115,)\n",
      "Test target shape: (443,)\n",
      "Person train/valid shape: (2115, 1)\n",
      "Person test shape: (443, 1)\n"
     ]
    }
   ],
   "source": [
    "y_test = y_test - 769\n",
    "y_train_valid = y_train_valid - 769\n",
    "print ('Training/Valid data shape: {}'.format(X_train_valid.shape))\n",
    "print ('Test data shape: {}'.format(X_test.shape))\n",
    "print ('Training/Valid target shape: {}'.format(y_train_valid.shape))\n",
    "print ('Test target shape: {}'.format(y_test.shape))\n",
    "print ('Person train/valid shape: {}'.format(person_train_valid.shape))\n",
    "print ('Person test shape: {}'.format(person_test.shape))"
   ]
  },
  {
   "cell_type": "code",
   "execution_count": 4,
   "metadata": {},
   "outputs": [],
   "source": [
    "# 把最后一个axis变两倍， 500 -> 1000\n",
    "def double_ax2(a):\n",
    "    result = np.zeros((a.shape[0],a.shape[1],a.shape[2] * 2))\n",
    "    b = np.reshape(a[:,:,-1],(a.shape[0],a.shape[1],1))\n",
    "    aMod = np.concatenate((a,b),axis = 2)\n",
    "    for i in range(a.shape[2]):\n",
    "        ave = (aMod[:,:,i] + aMod[:,:,i+1]) / 2\n",
    "        result[:,:,2 * i] = aMod[:,:,i]\n",
    "        result[:,:,2*i + 1] = ave\n",
    "    return result"
   ]
  },
  {
   "cell_type": "code",
   "execution_count": 5,
   "metadata": {},
   "outputs": [
    {
     "name": "stdout",
     "output_type": "stream",
     "text": [
      "(1692, 22, 1000)\n",
      "(423, 22, 1000)\n",
      "(443, 22, 1000)\n"
     ]
    }
   ],
   "source": [
    "from sklearn.model_selection import train_test_split\n",
    "X_train, X_valid, y_train, y_valid = train_test_split(X_train_valid, y_train_valid,\n",
    "                                                      test_size=0.2,shuffle=True,\n",
    "                                                      stratify=y_train_valid)\n",
    "#X_train = X_train.transpose(0,2,1)  # no need to transpose if downsampling\n",
    "#X_valid = X_valid.transpose(0,2,1)\n",
    "#X_test = X_test.transpose(0,2,1)\n",
    "print(X_train.shape)\n",
    "print(X_valid.shape)\n",
    "print(X_test.shape)"
   ]
  },
  {
   "cell_type": "code",
   "execution_count": 6,
   "metadata": {},
   "outputs": [
    {
     "data": {
      "text/plain": [
       "(array([106.,   0.,   0., 103.,   0.,   0., 108.,   0.,   0., 106.]),\n",
       " array([0. , 0.3, 0.6, 0.9, 1.2, 1.5, 1.8, 2.1, 2.4, 2.7, 3. ]),\n",
       " <a list of 10 Patch objects>)"
      ]
     },
     "execution_count": 6,
     "metadata": {},
     "output_type": "execute_result"
    },
    {
     "data": {
      "image/png": "[encoded data removed]",
      "text/plain": [
       "<Figure size 1080x360 with 2 Axes>"
      ]
     },
     "metadata": {
      "needs_background": "light"
     },
     "output_type": "display_data"
    }
   ],
   "source": [
    "plt.figure(figsize=(15, 5))\n",
    "plt.subplot(1, 2, 1)\n",
    "plt.hist(y_train)\n",
    "plt.subplot(1, 2, 2)\n",
    "plt.hist(y_valid)"
   ]
  },
  {
   "cell_type": "code",
   "execution_count": 7,
   "metadata": {},
   "outputs": [
    {
     "name": "stdout",
     "output_type": "stream",
     "text": [
      "(3384, 500, 22)\n",
      "(3384,)\n",
      "(423, 500, 22)\n",
      "(443, 500, 22)\n"
     ]
    }
   ],
   "source": [
    "# downsample ########\n",
    "num_time = X_train.shape[2]\n",
    "sample_1 = list(np.arange(0,num_time,2))\n",
    "sample_2 = list(np.arange(1,num_time,2))\n",
    "\n",
    "X_train_1 = X_train[:,:,sample_1]\n",
    "X_train_2 = X_train[:,:,sample_2]\n",
    "\n",
    "X_val_1 = X_valid[:,:,sample_1]\n",
    "X_val_2 = X_valid[:,:,sample_2]\n",
    "\n",
    "X_test_s1 = X_test[:,:,sample_1]\n",
    "X_test_s2 = X_test[:,:,sample_2]\n",
    "\n",
    "X_train_s = np.concatenate((X_train_1,X_train_2), axis=0).transpose(0, 2, 1)\n",
    "#X_train_s = double_ax2(X_train_s_).transpose(0, 2, 1)  # upsampling\n",
    "y_train_s = np.concatenate((y_train,y_train), axis=0)\n",
    "\n",
    "X_valid_s = X_val_1.transpose(0, 2, 1)\n",
    "#X_val_s = X_valid.transpose(0, 2, 1)  # upsampling\n",
    "y_valid_s = y_valid\n",
    "\n",
    "X_test_s = X_test_s1.transpose(0, 2, 1)\n",
    "#X_test_s = X_test_1.transpose(0, 2, 1) # upsampling\n",
    "y_test_s = y_test\n",
    "\n",
    "print(X_train_s.shape)\n",
    "print(y_train_s.shape)\n",
    "print(X_valid_s.shape)\n",
    "print(X_test_s.shape)"
   ]
  },
  {
   "cell_type": "code",
   "execution_count": 8,
   "metadata": {},
   "outputs": [],
   "source": [
    "from tensorflow.keras import regularizers"
   ]
  },
  {
   "cell_type": "code",
   "execution_count": 9,
   "metadata": {},
   "outputs": [],
   "source": [
    "hidden_gru = 64"
   ]
  },
  {
   "cell_type": "code",
   "execution_count": 10,
   "metadata": {},
   "outputs": [],
   "source": [
    "l1_reg = regularizers.l1(0.00005)\n",
    "l2_reg = regularizers.l2(0.01)\n",
    "l1_l2 = regularizers.l1_l2(l1=0.0005, l2=0.01)"
   ]
  },
  {
   "cell_type": "code",
   "execution_count": 11,
   "metadata": {},
   "outputs": [
    {
     "name": "stdout",
     "output_type": "stream",
     "text": [
      "WARNING:tensorflow:Large dropout rate: 0.8 (>0.5). In TensorFlow 2.x, dropout() uses dropout rate instead of keep_prob. Please ensure that this is intended.\n",
      "WARNING:tensorflow:Large dropout rate: 0.8 (>0.5). In TensorFlow 2.x, dropout() uses dropout rate instead of keep_prob. Please ensure that this is intended.\n",
      "Model: \"model\"\n",
      "__________________________________________________________________________________________________\n",
      "Layer (type)                    Output Shape         Param #     Connected to                     \n",
      "==================================================================================================\n",
      "input_1 (InputLayer)            [(None, 500, 22)]    0                                            \n",
      "__________________________________________________________________________________________________\n",
      "conv1d (Conv1D)                 (None, 486, 128)     42368       input_1[0][0]                    \n",
      "__________________________________________________________________________________________________\n",
      "batch_normalization (BatchNorma (None, 486, 128)     512         conv1d[0][0]                     \n",
      "__________________________________________________________________________________________________\n",
      "elu (ELU)                       (None, 486, 128)     0           batch_normalization[0][0]        \n",
      "__________________________________________________________________________________________________\n",
      "average_pooling1d (AveragePooli (None, 243, 128)     0           elu[0][0]                        \n",
      "__________________________________________________________________________________________________\n",
      "lstm (LSTM)                     (None, 243, 128)     131584      average_pooling1d[0][0]          \n",
      "__________________________________________________________________________________________________\n",
      "add (Add)                       (None, 243, 128)     0           lstm[0][0]                       \n",
      "                                                                 average_pooling1d[0][0]          \n",
      "__________________________________________________________________________________________________\n",
      "conv1d_1 (Conv1D)               (None, 233, 128)     180352      add[0][0]                        \n",
      "__________________________________________________________________________________________________\n",
      "batch_normalization_1 (BatchNor (None, 233, 128)     512         conv1d_1[0][0]                   \n",
      "__________________________________________________________________________________________________\n",
      "zero_padding1d (ZeroPadding1D)  (None, 234, 128)     0           batch_normalization_1[0][0]      \n",
      "__________________________________________________________________________________________________\n",
      "elu_1 (ELU)                     (None, 234, 128)     0           zero_padding1d[0][0]             \n",
      "__________________________________________________________________________________________________\n",
      "average_pooling1d_1 (AveragePoo (None, 117, 128)     0           elu_1[0][0]                      \n",
      "__________________________________________________________________________________________________\n",
      "conv1d_2 (Conv1D)               (None, 115, 128)     49280       average_pooling1d_1[0][0]        \n",
      "__________________________________________________________________________________________________\n",
      "batch_normalization_2 (BatchNor (None, 115, 128)     512         conv1d_2[0][0]                   \n",
      "__________________________________________________________________________________________________\n",
      "zero_padding1d_1 (ZeroPadding1D (None, 116, 128)     0           batch_normalization_2[0][0]      \n",
      "__________________________________________________________________________________________________\n",
      "elu_2 (ELU)                     (None, 116, 128)     0           zero_padding1d_1[0][0]           \n",
      "__________________________________________________________________________________________________\n",
      "average_pooling1d_2 (AveragePoo (None, 58, 128)      0           elu_2[0][0]                      \n",
      "__________________________________________________________________________________________________\n",
      "reshape (Reshape)               (None, 7424)         0           average_pooling1d_2[0][0]        \n",
      "__________________________________________________________________________________________________\n",
      "dense (Dense)                   (None, 300)          2227500     reshape[0][0]                    \n",
      "__________________________________________________________________________________________________\n",
      "batch_normalization_3 (BatchNor (None, 300)          1200        dense[0][0]                      \n",
      "__________________________________________________________________________________________________\n",
      "elu_3 (ELU)                     (None, 300)          0           batch_normalization_3[0][0]      \n",
      "__________________________________________________________________________________________________\n",
      "dropout (Dropout)               (None, 300)          0           elu_3[0][0]                      \n",
      "__________________________________________________________________________________________________\n",
      "dense_1 (Dense)                 (None, 40)           12040       dropout[0][0]                    \n",
      "__________________________________________________________________________________________________\n",
      "batch_normalization_4 (BatchNor (None, 40)           160         dense_1[0][0]                    \n",
      "__________________________________________________________________________________________________\n",
      "elu_4 (ELU)                     (None, 40)           0           batch_normalization_4[0][0]      \n",
      "__________________________________________________________________________________________________\n",
      "dropout_1 (Dropout)             (None, 40)           0           elu_4[0][0]                      \n",
      "__________________________________________________________________________________________________\n",
      "dense_2 (Dense)                 (None, 4)            164         dropout_1[0][0]                  \n",
      "==================================================================================================\n",
      "Total params: 2,646,184\n",
      "Trainable params: 2,644,736\n",
      "Non-trainable params: 1,448\n",
      "__________________________________________________________________________________________________\n"
     ]
    }
   ],
   "source": [
    "gru_net_input = layers.Input(shape=(500,22))\n",
    "#gru_net_input = layers.Input(shape=(22,1000))\n",
    "#x = layers.UpSampling1D(size=2)(gru_net_input)\n",
    "\n",
    "x = layers.Conv1D(128, 15, strides=1, padding='valid', kernel_regularizer=l1_l2)(gru_net_input)\n",
    "x = layers.BatchNormalization(axis=-1)(x)\n",
    "x = layers.ELU(alpha=1)(x)\n",
    "#x = layers.SpatialDropout1D(0.2)(x)\n",
    "#out_max = layers.MaxPooling1D(pool_size=2)(x)\n",
    "out_max = layers.AveragePooling1D(pool_size=2)(x)\n",
    "\n",
    "#x = layers.Conv1D(248, 5, strides=1, padding='valid', kernel_regularizer=l1_l2, data_format='channels_first')(out_max)\n",
    "#x = layers.BatchNormalization(axis=-1)(x)\n",
    "#out_max = layers.ELU(alpha=1)(x)\n",
    "#x = layers.SpatialDropout1D(0.2)(x)\n",
    "#x = layers.Add()([x, out_max])\n",
    "#out_max = layers.MaxPooling1D(pool_size=2)(x)\n",
    "\n",
    "#gru_f = layers.GRU(40,return_sequences=True, kernel_regularizer=l1_l2)(gru_net_input) # hidden_dims of gru = 40\n",
    "#gru_b = layers.GRU(40,return_sequences=True, kernel_regularizer=l1_l2, go_backwards=True)(gru_net_input)\n",
    "#gru = layers.Concatenate(axis=-1)([gru_f, gru_b])\n",
    "\n",
    "#gru_f = layers.GRU(40,return_sequences=True, kernel_regularizer=l1_l2)(gru) # hidden_dims of gru = 40\n",
    "#gru_b = layers.GRU(40,return_sequences=True, kernel_regularizer=l1_l2, go_backwards=True)(gru)\n",
    "#gru = layers.Concatenate(axis=-1)([gru_f, gru_b])  activity_regularizer=l1_reg\n",
    "\n",
    "lstm = layers.LSTM(128,return_sequences=True, kernel_regularizer=l1_l2)(out_max)\n",
    "#gru = layers.LSTM(64,return_sequences=True, kernel_regularizer=l1_l2)(gru)\n",
    "\n",
    "lstm = layers.Add()([lstm, out_max])\n",
    "\n",
    "x = layers.Conv1D(128, 11, strides=1, padding='valid', kernel_regularizer=l1_l2)(lstm)\n",
    "x = layers.BatchNormalization(axis=-1)(x) # output batch*500*64\n",
    "x = keras.layers.ZeroPadding1D(padding=(0, 1))(x) # for downsample data and 9 kernel size\n",
    "#x = layers.ReLU()(x)\n",
    "x = layers.ELU(alpha=1)(x)\n",
    "#x = layers.SpatialDropout1D(0.2)(x)\n",
    "x = layers.AveragePooling1D(pool_size=2)(x)\n",
    "#x = layers.MaxPooling1D(pool_size=2)(x)\n",
    "\n",
    "x = layers.Conv1D(128, 3, strides=1, padding='valid', kernel_regularizer=l1_l2)(x)\n",
    "x = layers.BatchNormalization(axis=-1)(x) # output batch*500*124\n",
    "x = keras.layers.ZeroPadding1D(padding=(0, 1))(x) # for downsample data\n",
    "#x = layers.ReLU()(x)\n",
    "x = layers.ELU(alpha=1)(x)\n",
    "#x = layers.SpatialDropout1D(0.2)(x)\n",
    "#x = layers.MaxPooling1D(pool_size=2)(x)\n",
    "x = layers.AveragePooling1D(pool_size=2)(x)\n",
    "\n",
    "x = layers.Reshape((int(58*128),))(x) # 125*128 for full shape data. 59*128 for downsample data\n",
    "\n",
    "x = layers.Dense(300, kernel_regularizer=l1_l2)(x) # output batch*64*64  the last dimension is sequence\n",
    "x = layers.BatchNormalization(axis=-1)(x) # after permute to axis=1\n",
    "x = layers.ELU(alpha=1)(x)\n",
    "#x = layers.ReLU()(x)\n",
    "x = layers.Dropout(0.8)(x)\n",
    "\n",
    "x = layers.Dense(40, kernel_regularizer=l1_l2)(x) # output batch*64*64  the last dimension is sequence\n",
    "x = layers.BatchNormalization(axis=-1)(x) # after permute to axis=1\n",
    "x = layers.ELU(alpha=1)(x)\n",
    "#x = layers.ReLU()(x)\n",
    "x = layers.Dropout(0.8)(x)\n",
    "\n",
    "output = layers.Dense(4, activation='softmax', kernel_regularizer=l1_l2)(x)\n",
    "\n",
    "model_ = keras.Model(gru_net_input, output)\n",
    "model_.summary()\n"
   ]
  },
  {
   "cell_type": "code",
   "execution_count": 12,
   "metadata": {},
   "outputs": [],
   "source": [
    "loss_ = keras.losses.SparseCategoricalCrossentropy()\n",
    "#optim = keras.optimizers.Adam(learning_rate=0.0005)\n",
    "optim = tf.keras.optimizers.SGD(learning_rate=0.001, momentum=0.9, nesterov=True, name='SGD')\n",
    "model_.compile(optimizer=optim, loss=loss_, metrics=['accuracy'])"
   ]
  },
  {
   "cell_type": "code",
   "execution_count": null,
   "metadata": {},
   "outputs": [
    {
     "name": "stdout",
     "output_type": "stream",
     "text": [
      "Train on 3384 samples, validate on 423 samples\n",
      "Epoch 1/100\n",
      "WARNING:tensorflow:Large dropout rate: 0.8 (>0.5). In TensorFlow 2.x, dropout() uses dropout rate instead of keep_prob. Please ensure that this is intended.\n",
      "WARNING:tensorflow:Large dropout rate: 0.8 (>0.5). In TensorFlow 2.x, dropout() uses dropout rate instead of keep_prob. Please ensure that this is intended.\n",
      "WARNING:tensorflow:Large dropout rate: 0.8 (>0.5). In TensorFlow 2.x, dropout() uses dropout rate instead of keep_prob. Please ensure that this is intended.\n",
      "3384/3384 [==============================] - 6s 2ms/sample - loss: 35.4372 - accuracy: 0.2512 - val_loss: 34.2370 - val_accuracy: 0.2955\n",
      "Epoch 2/100\n",
      "3384/3384 [==============================] - 2s 494us/sample - loss: 35.1378 - accuracy: 0.2698 - val_loss: 34.0079 - val_accuracy: 0.3570\n",
      "Epoch 3/100\n",
      "3384/3384 [==============================] - 2s 494us/sample - loss: 34.7472 - accuracy: 0.2819 - val_loss: 33.7751 - val_accuracy: 0.3452\n",
      "Epoch 4/100\n",
      "3384/3384 [==============================] - 2s 495us/sample - loss: 34.2729 - accuracy: 0.3035 - val_loss: 33.5274 - val_accuracy: 0.3381\n",
      "Epoch 5/100\n",
      "3384/3384 [==============================] - 2s 495us/sample - loss: 33.9424 - accuracy: 0.3032 - val_loss: 33.2845 - val_accuracy: 0.3428\n",
      "Epoch 6/100\n",
      "3384/3384 [==============================] - 2s 495us/sample - loss: 33.6667 - accuracy: 0.3056 - val_loss: 33.0488 - val_accuracy: 0.3333\n",
      "Epoch 7/100\n",
      "3384/3384 [==============================] - 2s 497us/sample - loss: 33.2970 - accuracy: 0.3230 - val_loss: 32.7671 - val_accuracy: 0.3522\n",
      "Epoch 8/100\n",
      "3384/3384 [==============================] - 2s 496us/sample - loss: 33.0120 - accuracy: 0.3345 - val_loss: 32.4826 - val_accuracy: 0.3783\n",
      "Epoch 9/100\n",
      "3384/3384 [==============================] - 2s 496us/sample - loss: 32.6987 - accuracy: 0.3514 - val_loss: 32.1978 - val_accuracy: 0.3924\n",
      "Epoch 10/100\n",
      "3384/3384 [==============================] - 2s 496us/sample - loss: 32.4021 - accuracy: 0.3505 - val_loss: 31.9088 - val_accuracy: 0.4184\n",
      "Epoch 11/100\n",
      "3384/3384 [==============================] - 2s 497us/sample - loss: 32.0917 - accuracy: 0.3676 - val_loss: 31.6561 - val_accuracy: 0.4326\n",
      "Epoch 12/100\n",
      "3384/3384 [==============================] - 2s 497us/sample - loss: 31.8352 - accuracy: 0.3865 - val_loss: 31.4200 - val_accuracy: 0.4444\n",
      "Epoch 13/100\n",
      "3384/3384 [==============================] - 2s 495us/sample - loss: 31.5704 - accuracy: 0.3780 - val_loss: 31.1878 - val_accuracy: 0.4444\n",
      "Epoch 14/100\n",
      "3384/3384 [==============================] - 2s 497us/sample - loss: 31.3041 - accuracy: 0.3853 - val_loss: 30.9567 - val_accuracy: 0.4444\n",
      "Epoch 15/100\n",
      "3384/3384 [==============================] - 2s 496us/sample - loss: 31.0296 - accuracy: 0.4078 - val_loss: 30.7234 - val_accuracy: 0.4704\n",
      "Epoch 16/100\n",
      "3384/3384 [==============================] - 2s 499us/sample - loss: 30.8012 - accuracy: 0.4016 - val_loss: 30.4946 - val_accuracy: 0.4752\n",
      "Epoch 17/100\n",
      "3384/3384 [==============================] - 2s 498us/sample - loss: 30.5596 - accuracy: 0.4158 - val_loss: 30.2709 - val_accuracy: 0.4752\n",
      "Epoch 18/100\n",
      "3384/3384 [==============================] - 2s 501us/sample - loss: 30.3200 - accuracy: 0.4261 - val_loss: 30.0528 - val_accuracy: 0.4823\n",
      "Epoch 19/100\n",
      "3384/3384 [==============================] - 2s 500us/sample - loss: 30.0678 - accuracy: 0.4187 - val_loss: 29.8346 - val_accuracy: 0.4917\n",
      "Epoch 20/100\n",
      "3384/3384 [==============================] - 2s 508us/sample - loss: 29.8523 - accuracy: 0.4362 - val_loss: 29.6168 - val_accuracy: 0.4894\n",
      "Epoch 21/100\n",
      "3384/3384 [==============================] - 2s 503us/sample - loss: 29.6369 - accuracy: 0.4214 - val_loss: 29.4006 - val_accuracy: 0.4894\n",
      "Epoch 22/100\n",
      "3384/3384 [==============================] - 2s 497us/sample - loss: 29.3902 - accuracy: 0.4400 - val_loss: 29.1902 - val_accuracy: 0.4917\n",
      "Epoch 23/100\n",
      "3384/3384 [==============================] - 2s 498us/sample - loss: 29.1571 - accuracy: 0.4610 - val_loss: 28.9768 - val_accuracy: 0.5059\n",
      "Epoch 24/100\n",
      "3384/3384 [==============================] - 2s 498us/sample - loss: 28.9564 - accuracy: 0.4459 - val_loss: 28.7652 - val_accuracy: 0.5059\n",
      "Epoch 25/100\n",
      "3384/3384 [==============================] - 2s 498us/sample - loss: 28.7249 - accuracy: 0.4524 - val_loss: 28.5549 - val_accuracy: 0.5106\n",
      "Epoch 26/100\n",
      "3384/3384 [==============================] - 2s 495us/sample - loss: 28.5171 - accuracy: 0.4616 - val_loss: 28.3487 - val_accuracy: 0.5059\n",
      "Epoch 27/100\n",
      "3384/3384 [==============================] - 2s 500us/sample - loss: 28.2922 - accuracy: 0.4737 - val_loss: 28.1446 - val_accuracy: 0.5083\n",
      "Epoch 28/100\n",
      "3384/3384 [==============================] - 2s 499us/sample - loss: 28.0734 - accuracy: 0.4772 - val_loss: 27.9386 - val_accuracy: 0.5130\n",
      "Epoch 29/100\n",
      "3384/3384 [==============================] - 2s 507us/sample - loss: 27.8683 - accuracy: 0.4843 - val_loss: 27.7354 - val_accuracy: 0.5225\n",
      "Epoch 30/100\n",
      "3384/3384 [==============================] - 2s 503us/sample - loss: 27.6612 - accuracy: 0.4829 - val_loss: 27.5319 - val_accuracy: 0.5248\n",
      "Epoch 31/100\n",
      "3384/3384 [==============================] - 2s 500us/sample - loss: 27.4485 - accuracy: 0.4885 - val_loss: 27.3334 - val_accuracy: 0.5225\n",
      "Epoch 32/100\n",
      "3384/3384 [==============================] - 2s 501us/sample - loss: 27.2353 - accuracy: 0.4965 - val_loss: 27.1311 - val_accuracy: 0.5343\n",
      "Epoch 33/100\n",
      "3384/3384 [==============================] - 2s 498us/sample - loss: 27.0409 - accuracy: 0.5009 - val_loss: 26.9274 - val_accuracy: 0.5343\n",
      "Epoch 34/100\n",
      "3384/3384 [==============================] - 2s 498us/sample - loss: 26.8369 - accuracy: 0.5077 - val_loss: 26.7310 - val_accuracy: 0.5437\n",
      "Epoch 35/100\n",
      "3384/3384 [==============================] - 2s 497us/sample - loss: 26.6461 - accuracy: 0.4914 - val_loss: 26.5326 - val_accuracy: 0.5390\n",
      "Epoch 36/100\n",
      "1692/3384 [==============>...............] - ETA: 0s - loss: 26.5016 - accuracy: 0.4953"
     ]
    }
   ],
   "source": [
    "loss_hist = model_.fit(X_train_s, y_train_s, epochs=100,\n",
    "                       batch_size=282, validation_data=(X_valid_s, y_valid_s))"
   ]
  },
  {
   "cell_type": "code",
   "execution_count": 17,
   "metadata": {},
   "outputs": [
    {
     "data": {
      "text/plain": [
       "['loss', 'accuracy', 'val_loss', 'val_accuracy']"
      ]
     },
     "execution_count": 17,
     "metadata": {},
     "output_type": "execute_result"
    }
   ],
   "source": [
    "hist = loss_hist.history\n",
    "list(hist)"
   ]
  },
  {
   "cell_type": "code",
   "execution_count": 18,
   "metadata": {},
   "outputs": [
    {
     "data": {
      "text/plain": [
       "<matplotlib.legend.Legend at 0x21c0b853e08>"
      ]
     },
     "execution_count": 18,
     "metadata": {},
     "output_type": "execute_result"
    },
    {
     "data": {
      "image/png": "[encoded data removed]",
      "text/plain": [
       "<Figure size 1080x504 with 2 Axes>"
      ]
     },
     "metadata": {
      "needs_background": "light"
     },
     "output_type": "display_data"
    }
   ],
   "source": [
    "\n",
    "plt.figure(figsize=(15, 7))\n",
    "plt.subplot(1, 2, 1)\n",
    "plt.plot(hist['accuracy'])\n",
    "plt.plot(hist['val_accuracy'])\n",
    "plt.ylabel('accuracy')\n",
    "plt.xlabel('epoch')\n",
    "plt.legend(['train', 'val'])\n",
    "\n",
    "plt.subplot(1, 2, 2)\n",
    "plt.plot(hist['loss'])\n",
    "plt.plot(hist['val_loss'])\n",
    "plt.ylabel('loss')\n",
    "plt.xlabel('epoch')\n",
    "plt.legend(['train', 'val'])"
   ]
  },
  {
   "cell_type": "code",
   "execution_count": 19,
   "metadata": {},
   "outputs": [
    {
     "name": "stdout",
     "output_type": "stream",
     "text": [
      "423/1 - 0s - loss: 13.6749 - accuracy: 0.5650\n",
      "['val loss, val acc', [13.584404259990574, 0.5650118]]\n"
     ]
    }
   ],
   "source": [
    "val_results = model_.evaluate(x=X_valid_s, y=y_valid_s, batch_size=16, verbose=2)\n",
    "print(['val loss, val acc', val_results])"
   ]
  },
  {
   "cell_type": "code",
   "execution_count": 20,
   "metadata": {},
   "outputs": [
    {
     "name": "stdout",
     "output_type": "stream",
     "text": [
      "443/1 - 0s - loss: 13.3392 - accuracy: 0.6343\n",
      "['test loss, test acc', [13.448106587067684, 0.6343115]]\n"
     ]
    }
   ],
   "source": [
    "test_results = model_.evaluate(x=X_test_s, y=y_test_s, batch_size=50, verbose=2)\n",
    "print(['test loss, test acc', test_results])"
   ]
  },
  {
   "cell_type": "code",
   "execution_count": null,
   "metadata": {},
   "outputs": [],
   "source": [
    "model_.save('lstm_baseline_1.h5') "
   ]
  },
  {
   "cell_type": "code",
   "execution_count": null,
   "metadata": {},
   "outputs": [],
   "source": []
  },
  {
   "cell_type": "code",
   "execution_count": null,
   "metadata": {},
   "outputs": [],
   "source": []
  },
  {
   "cell_type": "code",
   "execution_count": null,
   "metadata": {},
   "outputs": [],
   "source": []
  },
  {
   "cell_type": "code",
   "execution_count": null,
   "metadata": {},
   "outputs": [],
   "source": []
  },
  {
   "cell_type": "code",
   "execution_count": null,
   "metadata": {},
   "outputs": [],
   "source": [
    "#GRUnet = tf.keras.Sequential()\n",
    "GRUnet.add(layers.Conv1D(64, 3, strides=1, padding='valid',\n",
    "                         activation='relu', activity_regularizer=regularizers.l1(0.0005)))\n",
    "GRUnet.add(layers.MaxPooling1D(pool_size=2))\n",
    "GRUnet.add(layers.GRU(40,activity_regularizer=regularizers.l1(0.0005),\n",
    "                      dropout=0, recurrent_dropout=0.0,return_sequences=True, return_state=True))"
   ]
  },
  {
   "cell_type": "code",
   "execution_count": null,
   "metadata": {},
   "outputs": [],
   "source": []
  },
  {
   "cell_type": "code",
   "execution_count": null,
   "metadata": {},
   "outputs": [],
   "source": [
    "##### with l1_norm\n",
    "gru_net_input = layers.Input(shape=(500,22))\n",
    "\n",
    "#x = layers.UpSampling1D(size=2)(gru_net_input)\n",
    "\n",
    "#x = layers.SpatialDropout1D(0.2)(gru_net_input)\n",
    "\n",
    "#x = layers.Conv1D(64, 3, strides=1, padding='valid',activation='relu')(x)\n",
    "#x = layers.BatchNormalization(axis=-1)(x)\n",
    "#x = layers.MaxPooling1D(pool_size=2)(x)\n",
    "#x = layers.SpatialDropout1D(0.2)(x)\n",
    "\n",
    "gru, final_state = layers.GRU(40,return_sequences=True,\n",
    "                              return_state=True,\n",
    "                              kernel_regularizer=regularizers.l1(0.0005),\n",
    "                              bias_regularizer=regularizers.l1(0.0005))(gru_net_input) # hidden_dims of gru = 40\n",
    "#gru = layers.GRU(256)(x) # hidden_dims of gru = 64\n",
    "\n",
    "x = layers.Conv1D(64, 3, strides=1, padding='same',\n",
    "                  kernel_regularizer=regularizers.l1(0.0005),\n",
    "                  bias_regularizer=regularizers.l1(0.0005))(gru)\n",
    "x = layers.BatchNormalization(axis=-1)(x) # output batch*500*124\n",
    "#x = layers.ReLU()(x)\n",
    "x = layers.ELU(alpha=1)(x)\n",
    "x = layers.MaxPooling1D(pool_size=2)(x)\n",
    "x = layers.SpatialDropout1D(0.5)(x)\n",
    "\n",
    "x = layers.Conv1D(64, 3, strides=1, padding='same',\n",
    "                  kernel_regularizer=regularizers.l1(0.0005),\n",
    "                  bias_regularizer=regularizers.l1(0.0005))(x)\n",
    "x = layers.BatchNormalization(axis=-1)(x) # output batch*500*124\n",
    "#x = layers.ReLU()(x)\n",
    "x = layers.ELU(alpha=1)(x)\n",
    "x = layers.MaxPooling1D(pool_size=2)(x)\n",
    "x = layers.SpatialDropout1D(0.5)(x)\n",
    "\n",
    "x = layers.Reshape((int(125*64),))(x)\n",
    "\n",
    "x = layers.Dense(300,kernel_regularizer=regularizers.l1(0.0005),\n",
    "                 bias_regularizer=regularizers.l1(0.0005))(x) # output batch*64*64  the last dimension is sequence\n",
    "x = layers.BatchNormalization(axis=-1)(x) # after permute to axis=1\n",
    "x = layers.ELU(alpha=1)(x)\n",
    "#x = layers.ReLU()(x)\n",
    "x = layers.Dropout(0.8)(x)\n",
    "\n",
    "x = layers.Dense(40,kernel_regularizer=regularizers.l1(0.0005),\n",
    "                 bias_regularizer=regularizers.l1(0.0005))(x) # output batch*64*64  the last dimension is sequence\n",
    "x = layers.BatchNormalization(axis=-1)(x) # after permute to axis=1\n",
    "x = layers.ELU(alpha=1)(x)\n",
    "#x = layers.ReLU()(x)\n",
    "x = layers.Dropout(0.8)(x)\n",
    "\n",
    "output = layers.Dense(4, activation='softmax',\n",
    "                      kernel_regularizer=regularizers.l1(0.0005),\n",
    "                      bias_regularizer=regularizers.l1(0.0005))(x)\n",
    "\n",
    "model_ = keras.Model(gru_net_input, output)\n",
    "model_.summary()\n"
   ]
  },
  {
   "cell_type": "code",
   "execution_count": null,
   "metadata": {},
   "outputs": [],
   "source": [
    "gru_net_input = layers.Input(shape=(500,22))\n",
    "\n",
    "x = layers.SpatialDropout1D(0.2)(gru_net_input)\n",
    "x = layers.Conv1D(64, 3, strides=1, padding='valid',\n",
    "                  activation='relu')(x)\n",
    "x = layers.BatchNormalization(axis=-1)(x)\n",
    "x = layers.MaxPooling1D(pool_size=2)(x)\n",
    "x = layers.Dropout(0.5)(x)\n",
    "\n",
    "#gru, final_state = layers.GRU(124,return_sequences=True, return_state=True)(x) # hidden_dims of gru = 64\n",
    "gru = layers.GRU(256,return_sequences=True, return_state=True)(x) # hidden_dims of gru = 64\n",
    "\n",
    "#x = layers.Conv1D(64, 3, strides=1, padding='same',activation='relu')(gru_out)\n",
    "x = layers.BatchNormalization(axis=-1)(gru) # output batch*249*64\n",
    "#x = layers.MaxPooling1D(pool_size=2)(x)\n",
    "\n",
    "#x = layers.Permute((2,1))(x)\n",
    "x = layers.Dense(64, activation='relu')(x) # output batch*64*64  the last dimension is sequence\n",
    "x = layers.BatchNormalization(axis=1)(x) # after permute to axis=1\n",
    "#x = layers.Permute((2,1))(x)\n",
    "x = layers.Dropout(0.8)(x)\n",
    "\n",
    "#x = layers.Reshape((int(124*64),))(x)\n",
    "x = layers.Dense(1024, activation='relu')(x)\n",
    "x = layers.BatchNormalization(axis=-1)(x)\n",
    "x = layers.Dropout(0.8)(x)\n",
    "\n",
    "x = layers.Dense(128, activation='relu')(x)\n",
    "x = layers.BatchNormalization(axis=-1)(x)\n",
    "x = layers.Dropout(0.8)(x)\n",
    "\n",
    "output = layers.Dense(4, activation='softmax')(x)\n",
    "\n",
    "model = keras.Model(gru_net_input, output)\n",
    "model.summary()\n"
   ]
  }
 ],
 "metadata": {
  "kernelspec": {
   "display_name": "Python 3",
   "language": "python",
   "name": "python3"
  },
  "language_info": {
   "codemirror_mode": {
    "name": "ipython",
    "version": 3
   },
   "file_extension": ".py",
   "mimetype": "text/x-python",
   "name": "python",
   "nbconvert_exporter": "python",
   "pygments_lexer": "ipython3",
   "version": "3.7.5"
  }
 },
 "nbformat": 4,
 "nbformat_minor": 2
}
