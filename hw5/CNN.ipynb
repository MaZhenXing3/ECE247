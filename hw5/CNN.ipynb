{
 "cells": [
  {
   "cell_type": "markdown",
   "metadata": {},
   "source": [
    "# Convolutional neural networks\n",
    "\n",
    "In this notebook, we'll put together our convolutional layers to implement a 3-layer CNN.  Then, we'll ask you to implement a CNN that can achieve > 65% validation error on CIFAR-10.\n",
    "\n",
    "CS231n has built a solid API for building these modular frameworks and training them, and we will use their very well implemented framework as opposed to \"reinventing the wheel.\"  This includes using their Solver, various utility functions, their layer structure, and their implementation of fast CNN layers.  This also includes nndl.fc_net, nndl.layers, and nndl.layer_utils.  As in prior assignments, we thank Serena Yeung & Justin Johnson for permission to use code written for the CS 231n class (cs231n.stanford.edu).  \n",
    "\n",
    "\n",
    "If you have not completed the Spatial BatchNorm Notebook, please see the following description from that notebook:\n",
    "\n",
    "Please copy and paste your prior implemented code from HW #4 to start this assignment.  If you did not correctly implement the layers in HW #4, you may collaborate with a classmate to use their layer implementations from HW #4.  You may also visit TA or Prof OH to correct your implementation.  \n",
    "\n",
    "You'll want to copy and paste from HW #4:\n",
    "    - layers.py for your FC network layers, as well as batchnorm and dropout.\n",
    "    - layer_utils.py for your combined FC network layers.\n",
    "    - optim.py for your optimizers.\n",
    "\n",
    "Be sure to place these in the `nndl/` directory so they're imported correctly.  Note, as announced in class, we will not be releasing our solutions."
   ]
  },
  {
   "cell_type": "code",
   "execution_count": 2,
   "metadata": {},
   "outputs": [
    {
     "name": "stdout",
     "output_type": "stream",
     "text": [
      "The autoreload extension is already loaded. To reload it, use:\n",
      "  %reload_ext autoreload\n"
     ]
    }
   ],
   "source": [
    "# As usual, a bit of setup\n",
    "\n",
    "import numpy as np\n",
    "import matplotlib.pyplot as plt\n",
    "from nndl.cnn import *\n",
    "from nndl.optCnn import *\n",
    "from cs231n.data_utils import get_CIFAR10_data\n",
    "from cs231n.gradient_check import eval_numerical_gradient_array, eval_numerical_gradient\n",
    "from nndl.layers import *\n",
    "from nndl.conv_layers import *\n",
    "from cs231n.fast_layers import *\n",
    "from cs231n.solver import Solver\n",
    "\n",
    "%matplotlib inline\n",
    "plt.rcParams['figure.figsize'] = (10.0, 8.0) # set default size of plots\n",
    "plt.rcParams['image.interpolation'] = 'nearest'\n",
    "plt.rcParams['image.cmap'] = 'gray'\n",
    "\n",
    "# for auto-reloading external modules\n",
    "# see http://stackoverflow.com/questions/1907993/autoreload-of-modules-in-ipython\n",
    "%load_ext autoreload\n",
    "%autoreload 2\n",
    "\n",
    "def rel_error(x, y):\n",
    "  \"\"\" returns relative error \"\"\"\n",
    "  return np.max(np.abs(x - y) / (np.maximum(1e-8, np.abs(x) + np.abs(y))))"
   ]
  },
  {
   "cell_type": "code",
   "execution_count": 3,
   "metadata": {},
   "outputs": [
    {
     "name": "stdout",
     "output_type": "stream",
     "text": [
      "X_train: (49000, 3, 32, 32) \n",
      "y_train: (49000,) \n",
      "X_val: (1000, 3, 32, 32) \n",
      "y_val: (1000,) \n",
      "X_test: (1000, 3, 32, 32) \n",
      "y_test: (1000,) \n"
     ]
    }
   ],
   "source": [
    "# Load the (preprocessed) CIFAR10 data.\n",
    "\n",
    "data = get_CIFAR10_data()\n",
    "for k in data.keys():\n",
    "  print('{}: {} '.format(k, data[k].shape))"
   ]
  },
  {
   "cell_type": "markdown",
   "metadata": {},
   "source": [
    "## Three layer CNN\n",
    "\n",
    "In this notebook, you will implement a three layer CNN.  The `ThreeLayerConvNet` class is in `nndl/cnn.py`.  You'll need to modify that code for this section, including the initialization, as well as the calculation of the loss and gradients.  You should be able to use the building blocks you have either earlier coded or that we have provided.  Be sure to use the fast layers.\n",
    "\n",
    "The architecture of this CNN will be:\n",
    "\n",
    "conv - relu - 2x2 max pool - affine - relu - affine - softmax\n",
    "\n",
    "We won't use batchnorm yet.  You've also done enough of these to know how to debug; use the cells below.\n",
    "\n",
    "Note: As we are implementing several layers CNN networks. The gradient error can be expected for the `eval_numerical_gradient()` function. If your `W1 max relative error` and `W2 max relative error` are around or below 0.01, they should be acceptable. Other errors should be less than 1e-5. "
   ]
  },
  {
   "cell_type": "code",
   "execution_count": 18,
   "metadata": {},
   "outputs": [
    {
     "name": "stdout",
     "output_type": "stream",
     "text": [
      "W1 max relative error: 0.02142904062488311\n",
      "W2 max relative error: 0.009808130514651237\n",
      "W3 max relative error: 3.3235091269656935e-05\n",
      "b1 max relative error: 8.023946482003689e-06\n",
      "b2 max relative error: 4.21057084397832e-07\n",
      "b3 max relative error: 7.884441284366369e-10\n"
     ]
    }
   ],
   "source": [
    "num_inputs = 2\n",
    "input_dim = (3, 16, 16)\n",
    "reg = 0.0\n",
    "num_classes = 10\n",
    "X = np.random.randn(num_inputs, *input_dim)\n",
    "y = np.random.randint(num_classes, size=num_inputs)\n",
    "\n",
    "model = ThreeLayerConvNet(num_filters=3, filter_size=3,\n",
    "                          input_dim=input_dim, hidden_dim=7,\n",
    "                          dtype=np.float64)\n",
    "loss, grads = model.loss(X, y)\n",
    "for param_name in sorted(grads):\n",
    "    f = lambda _: model.loss(X, y)[0]\n",
    "    param_grad_num = eval_numerical_gradient(f, model.params[param_name], verbose=False, h=1e-6)\n",
    "    e = rel_error(param_grad_num, grads[param_name])\n",
    "    print('{} max relative error: {}'.format(param_name, rel_error(param_grad_num, grads[param_name])))"
   ]
  },
  {
   "cell_type": "markdown",
   "metadata": {},
   "source": [
    "### Overfit small dataset\n",
    "\n",
    "To check your CNN implementation, let's overfit a small dataset."
   ]
  },
  {
   "cell_type": "code",
   "execution_count": 14,
   "metadata": {},
   "outputs": [
    {
     "name": "stdout",
     "output_type": "stream",
     "text": [
      "(Iteration 1 / 20) loss: 2.294185\n",
      "(Epoch 0 / 10) train acc: 0.170000; val_acc: 0.138000\n",
      "(Iteration 2 / 20) loss: 3.576088\n",
      "(Epoch 1 / 10) train acc: 0.150000; val_acc: 0.104000\n",
      "(Iteration 3 / 20) loss: 4.071718\n",
      "(Iteration 4 / 20) loss: 3.012022\n",
      "(Epoch 2 / 10) train acc: 0.210000; val_acc: 0.112000\n",
      "(Iteration 5 / 20) loss: 2.682472\n",
      "(Iteration 6 / 20) loss: 2.379191\n",
      "(Epoch 3 / 10) train acc: 0.300000; val_acc: 0.179000\n",
      "(Iteration 7 / 20) loss: 2.103202\n",
      "(Iteration 8 / 20) loss: 2.163092\n",
      "(Epoch 4 / 10) train acc: 0.230000; val_acc: 0.147000\n",
      "(Iteration 9 / 20) loss: 2.255692\n",
      "(Iteration 10 / 20) loss: 1.813706\n",
      "(Epoch 5 / 10) train acc: 0.400000; val_acc: 0.174000\n",
      "(Iteration 11 / 20) loss: 1.707819\n",
      "(Iteration 12 / 20) loss: 1.617634\n",
      "(Epoch 6 / 10) train acc: 0.380000; val_acc: 0.169000\n",
      "(Iteration 13 / 20) loss: 1.796014\n",
      "(Iteration 14 / 20) loss: 1.679377\n",
      "(Epoch 7 / 10) train acc: 0.520000; val_acc: 0.175000\n",
      "(Iteration 15 / 20) loss: 1.678429\n",
      "(Iteration 16 / 20) loss: 1.359571\n",
      "(Epoch 8 / 10) train acc: 0.570000; val_acc: 0.163000\n",
      "(Iteration 17 / 20) loss: 1.340483\n",
      "(Iteration 18 / 20) loss: 1.237571\n",
      "(Epoch 9 / 10) train acc: 0.610000; val_acc: 0.172000\n",
      "(Iteration 19 / 20) loss: 1.238238\n",
      "(Iteration 20 / 20) loss: 1.240945\n",
      "(Epoch 10 / 10) train acc: 0.660000; val_acc: 0.193000\n"
     ]
    }
   ],
   "source": [
    "num_train = 100\n",
    "small_data = {\n",
    "  'X_train': data['X_train'][:num_train],\n",
    "  'y_train': data['y_train'][:num_train],\n",
    "  'X_val': data['X_val'],\n",
    "  'y_val': data['y_val'],\n",
    "}\n",
    "\n",
    "model = ThreeLayerConvNet(weight_scale=1e-2)\n",
    "\n",
    "solver = Solver(model, small_data,\n",
    "                num_epochs=10, batch_size=50,\n",
    "                update_rule='adam',\n",
    "                optim_config={\n",
    "                  'learning_rate': 1e-3,\n",
    "                },\n",
    "                verbose=True, print_every=1)\n",
    "solver.train()"
   ]
  },
  {
   "cell_type": "code",
   "execution_count": 15,
   "metadata": {},
   "outputs": [
    {
     "data": {
      "image/png": "[encoded data removed]",
      "text/plain": [
       "<Figure size 720x576 with 2 Axes>"
      ]
     },
     "metadata": {
      "needs_background": "light"
     },
     "output_type": "display_data"
    }
   ],
   "source": [
    "plt.subplot(2, 1, 1)\n",
    "plt.plot(solver.loss_history, 'o')\n",
    "plt.xlabel('iteration')\n",
    "plt.ylabel('loss')\n",
    "\n",
    "plt.subplot(2, 1, 2)\n",
    "plt.plot(solver.train_acc_history, '-o')\n",
    "plt.plot(solver.val_acc_history, '-o')\n",
    "plt.legend(['train', 'val'], loc='upper left')\n",
    "plt.xlabel('epoch')\n",
    "plt.ylabel('accuracy')\n",
    "plt.show()"
   ]
  },
  {
   "cell_type": "markdown",
   "metadata": {},
   "source": [
    "## Train the network\n",
    "\n",
    "Now we train the 3 layer CNN on CIFAR-10 and assess its accuracy."
   ]
  },
  {
   "cell_type": "code",
   "execution_count": 13,
   "metadata": {
    "scrolled": false
   },
   "outputs": [
    {
     "name": "stdout",
     "output_type": "stream",
     "text": [
      "(Iteration 1 / 980) loss: 2.304739\n",
      "(Epoch 0 / 1) train acc: 0.088000; val_acc: 0.107000\n",
      "(Iteration 21 / 980) loss: 2.049067\n",
      "(Iteration 41 / 980) loss: 2.036502\n",
      "(Iteration 61 / 980) loss: 1.827442\n",
      "(Iteration 81 / 980) loss: 1.806070\n",
      "(Iteration 101 / 980) loss: 1.949555\n",
      "(Iteration 121 / 980) loss: 1.871853\n",
      "(Iteration 141 / 980) loss: 1.777341\n",
      "(Iteration 161 / 980) loss: 1.870859\n",
      "(Iteration 181 / 980) loss: 1.713237\n",
      "(Iteration 201 / 980) loss: 1.920081\n",
      "(Iteration 221 / 980) loss: 1.853031\n",
      "(Iteration 241 / 980) loss: 1.652937\n",
      "(Iteration 261 / 980) loss: 1.893801\n",
      "(Iteration 281 / 980) loss: 1.676272\n",
      "(Iteration 301 / 980) loss: 1.767976\n",
      "(Iteration 321 / 980) loss: 1.803867\n",
      "(Iteration 341 / 980) loss: 2.016400\n",
      "(Iteration 361 / 980) loss: 1.522629\n",
      "(Iteration 381 / 980) loss: 1.636482\n",
      "(Iteration 401 / 980) loss: 1.671550\n",
      "(Iteration 421 / 980) loss: 1.907263\n",
      "(Iteration 441 / 980) loss: 1.576512\n",
      "(Iteration 461 / 980) loss: 1.643401\n",
      "(Iteration 481 / 980) loss: 1.666388\n",
      "(Iteration 501 / 980) loss: 1.722720\n",
      "(Iteration 521 / 980) loss: 1.902772\n",
      "(Iteration 541 / 980) loss: 1.619319\n",
      "(Iteration 561 / 980) loss: 1.808101\n",
      "(Iteration 581 / 980) loss: 1.483042\n",
      "(Iteration 601 / 980) loss: 1.760683\n",
      "(Iteration 621 / 980) loss: 1.926786\n",
      "(Iteration 641 / 980) loss: 1.552034\n",
      "(Iteration 661 / 980) loss: 1.366171\n",
      "(Iteration 681 / 980) loss: 1.572496\n",
      "(Iteration 701 / 980) loss: 1.341374\n",
      "(Iteration 721 / 980) loss: 1.608165\n",
      "(Iteration 741 / 980) loss: 1.412420\n",
      "(Iteration 761 / 980) loss: 1.561768\n",
      "(Iteration 781 / 980) loss: 1.792321\n",
      "(Iteration 801 / 980) loss: 1.835189\n",
      "(Iteration 821 / 980) loss: 1.710537\n",
      "(Iteration 841 / 980) loss: 1.940831\n",
      "(Iteration 861 / 980) loss: 1.578783\n",
      "(Iteration 881 / 980) loss: 1.404249\n",
      "(Iteration 901 / 980) loss: 1.802322\n",
      "(Iteration 921 / 980) loss: 1.637801\n",
      "(Iteration 941 / 980) loss: 1.444473\n",
      "(Iteration 961 / 980) loss: 1.409727\n",
      "(Epoch 1 / 1) train acc: 0.449000; val_acc: 0.476000\n"
     ]
    }
   ],
   "source": [
    "model = ThreeLayerConvNet(weight_scale=0.001, hidden_dim=500, reg=0.001)\n",
    "\n",
    "solver = Solver(model, data,\n",
    "                num_epochs=1, batch_size=50,\n",
    "                update_rule='adam',\n",
    "                optim_config={\n",
    "                  'learning_rate': 1e-3,\n",
    "                },\n",
    "                verbose=True, print_every=20)\n",
    "solver.train()"
   ]
  },
  {
   "cell_type": "markdown",
   "metadata": {},
   "source": [
    "# Get > 65% validation accuracy on CIFAR-10.\n",
    "\n",
    "In the last part of the assignment, we'll now ask you to train a CNN to get better than 65% validation accuracy on CIFAR-10.\n",
    "\n",
    "### Things you should try:\n",
    "- Filter size: Above we used 7x7; but VGGNet and onwards showed stacks of 3x3 filters are good.  \n",
    "- Number of filters: Above we used 32 filters. Do more or fewer do better?\n",
    "- Batch normalization: Try adding spatial batch normalization after convolution layers and vanilla batch normalization after affine layers. Do your networks train faster?\n",
    "- Network architecture: Can a deeper CNN do better?  Consider these architectures:\n",
    "    - [conv-relu-pool]xN - conv - relu - [affine]xM - [softmax or SVM]\n",
    "    - [conv-relu-pool]XN - [affine]XM - [softmax or SVM]\n",
    "    - [conv-relu-conv-relu-pool]xN - [affine]xM - [softmax or SVM]\n",
    "\n",
    "### Tips for training\n",
    "For each network architecture that you try, you should tune the learning rate and regularization strength. When doing this there are a couple of important things to keep in mind:\n",
    "\n",
    "- If the parameters are working well, you should see improvement within a few hundred iterations\n",
    "- Remember the coarse-to-fine approach for hyperparameter tuning: start by testing a large range of hyperparameters for just a few training iterations to find the combinations of parameters that are working at all.\n",
    "- Once you have found some sets of parameters that seem to work, search more finely around these parameters. You may need to train for more epochs."
   ]
  },
  {
   "cell_type": "code",
   "execution_count": 12,
   "metadata": {
    "scrolled": false
   },
   "outputs": [
    {
     "name": "stdout",
     "output_type": "stream",
     "text": [
      "(Iteration 1 / 1630) loss: 2.303533\n",
      "(Epoch 0 / 5) train acc: 0.109000; val_acc: 0.102000\n",
      "(Iteration 21 / 1630) loss: 2.291803\n",
      "(Iteration 41 / 1630) loss: 2.181211\n",
      "(Iteration 61 / 1630) loss: 2.107678\n",
      "(Iteration 81 / 1630) loss: 2.111654\n",
      "(Iteration 101 / 1630) loss: 2.064526\n",
      "(Iteration 121 / 1630) loss: 2.033427\n",
      "(Iteration 141 / 1630) loss: 1.850642\n",
      "(Iteration 161 / 1630) loss: 1.906835\n",
      "(Iteration 181 / 1630) loss: 1.863057\n",
      "(Iteration 201 / 1630) loss: 1.770866\n",
      "(Iteration 221 / 1630) loss: 1.758358\n",
      "(Iteration 241 / 1630) loss: 1.609672\n",
      "(Iteration 261 / 1630) loss: 1.730401\n",
      "(Iteration 281 / 1630) loss: 1.731783\n",
      "(Iteration 301 / 1630) loss: 1.797188\n",
      "(Iteration 321 / 1630) loss: 1.606108\n",
      "(Epoch 1 / 5) train acc: 0.475000; val_acc: 0.482000\n",
      "(Iteration 341 / 1630) loss: 1.538808\n",
      "(Iteration 361 / 1630) loss: 1.619495\n",
      "(Iteration 381 / 1630) loss: 1.817134\n",
      "(Iteration 401 / 1630) loss: 1.440621\n",
      "(Iteration 421 / 1630) loss: 1.693793\n",
      "(Iteration 441 / 1630) loss: 1.371200\n",
      "(Iteration 461 / 1630) loss: 1.466062\n",
      "(Iteration 481 / 1630) loss: 1.431778\n",
      "(Iteration 501 / 1630) loss: 1.582641\n",
      "(Iteration 521 / 1630) loss: 1.607318\n",
      "(Iteration 541 / 1630) loss: 1.393588\n",
      "(Iteration 561 / 1630) loss: 1.417931\n",
      "(Iteration 581 / 1630) loss: 1.506085\n",
      "(Iteration 601 / 1630) loss: 1.264320\n",
      "(Iteration 621 / 1630) loss: 1.342239\n",
      "(Iteration 641 / 1630) loss: 1.423784\n",
      "(Epoch 2 / 5) train acc: 0.603000; val_acc: 0.587000\n",
      "(Iteration 661 / 1630) loss: 1.305836\n",
      "(Iteration 681 / 1630) loss: 1.291028\n",
      "(Iteration 701 / 1630) loss: 1.435277\n",
      "(Iteration 721 / 1630) loss: 1.286120\n",
      "(Iteration 741 / 1630) loss: 1.486446\n",
      "(Iteration 761 / 1630) loss: 1.364257\n",
      "(Iteration 781 / 1630) loss: 1.204359\n",
      "(Iteration 801 / 1630) loss: 1.377844\n",
      "(Iteration 821 / 1630) loss: 1.399163\n",
      "(Iteration 841 / 1630) loss: 1.313911\n",
      "(Iteration 861 / 1630) loss: 1.314907\n",
      "(Iteration 881 / 1630) loss: 1.434055\n",
      "(Iteration 901 / 1630) loss: 1.464602\n",
      "(Iteration 921 / 1630) loss: 1.295447\n",
      "(Iteration 941 / 1630) loss: 1.356963\n",
      "(Iteration 961 / 1630) loss: 1.414547\n",
      "(Epoch 3 / 5) train acc: 0.684000; val_acc: 0.604000\n",
      "(Iteration 981 / 1630) loss: 1.147244\n",
      "(Iteration 1001 / 1630) loss: 1.440531\n",
      "(Iteration 1021 / 1630) loss: 1.268441\n",
      "(Iteration 1041 / 1630) loss: 1.244946\n",
      "(Iteration 1061 / 1630) loss: 1.338221\n",
      "(Iteration 1081 / 1630) loss: 1.287360\n",
      "(Iteration 1101 / 1630) loss: 1.287197\n",
      "(Iteration 1121 / 1630) loss: 1.328873\n",
      "(Iteration 1141 / 1630) loss: 1.307854\n",
      "(Iteration 1161 / 1630) loss: 1.109665\n",
      "(Iteration 1181 / 1630) loss: 1.263490\n",
      "(Iteration 1201 / 1630) loss: 1.197671\n",
      "(Iteration 1221 / 1630) loss: 1.152287\n",
      "(Iteration 1241 / 1630) loss: 1.298639\n",
      "(Iteration 1261 / 1630) loss: 1.181376\n",
      "(Iteration 1281 / 1630) loss: 1.343190\n",
      "(Iteration 1301 / 1630) loss: 1.323126\n",
      "(Epoch 4 / 5) train acc: 0.720000; val_acc: 0.638000\n",
      "(Iteration 1321 / 1630) loss: 1.199073\n",
      "(Iteration 1341 / 1630) loss: 1.269613\n",
      "(Iteration 1361 / 1630) loss: 1.229433\n",
      "(Iteration 1381 / 1630) loss: 1.291073\n",
      "(Iteration 1401 / 1630) loss: 1.244729\n",
      "(Iteration 1421 / 1630) loss: 1.273314\n",
      "(Iteration 1441 / 1630) loss: 1.367244\n",
      "(Iteration 1461 / 1630) loss: 1.165723\n",
      "(Iteration 1481 / 1630) loss: 1.154240\n",
      "(Iteration 1501 / 1630) loss: 1.255674\n",
      "(Iteration 1521 / 1630) loss: 1.291563\n",
      "(Iteration 1541 / 1630) loss: 1.286656\n",
      "(Iteration 1561 / 1630) loss: 1.238373\n",
      "(Iteration 1581 / 1630) loss: 1.210926\n",
      "(Iteration 1601 / 1630) loss: 1.409372\n",
      "(Iteration 1621 / 1630) loss: 1.069091\n",
      "(Epoch 5 / 5) train acc: 0.782000; val_acc: 0.660000\n"
     ]
    }
   ],
   "source": [
    "# ================================================================ #\n",
    "# YOUR CODE HERE:\n",
    "#   Implement a CNN to achieve greater than 65% validation accuracy\n",
    "#   on CIFAR-10.\n",
    "# ================================================================ #\n",
    "model = optCnn(weight_scale=0.001, hidden_dim=600, reg=0.0015)\n",
    "\n",
    "solver = Solver(model, data,\n",
    "                num_epochs=5, batch_size=150,\n",
    "                update_rule='adam',\n",
    "                optim_config={\n",
    "                  'learning_rate': 1e-3,\n",
    "                },\n",
    "                verbose=True, print_every=20)\n",
    "solver.train()\n",
    "\n",
    "# ================================================================ #\n",
    "# END YOUR CODE HERE\n",
    "# ================================================================ #\n"
   ]
  },
  {
   "cell_type": "code",
   "execution_count": null,
   "metadata": {},
   "outputs": [],
   "source": []
  }
 ],
 "metadata": {
  "kernelspec": {
   "display_name": "Python 3",
   "language": "python",
   "name": "python3"
  },
  "language_info": {
   "codemirror_mode": {
    "name": "ipython",
    "version": 3
   },
   "file_extension": ".py",
   "mimetype": "text/x-python",
   "name": "python",
   "nbconvert_exporter": "python",
   "pygments_lexer": "ipython3",
   "version": "3.7.3"
  },
  "varInspector": {
   "cols": {
    "lenName": 16,
    "lenType": 16,
    "lenVar": 40
   },
   "kernels_config": {
    "python": {
     "delete_cmd_postfix": "",
     "delete_cmd_prefix": "del ",
     "library": "var_list.py",
     "varRefreshCmd": "print(var_dic_list())"
    },
    "r": {
     "delete_cmd_postfix": ") ",
     "delete_cmd_prefix": "rm(",
     "library": "var_list.r",
     "varRefreshCmd": "cat(var_dic_list()) "
    }
   },
   "types_to_exclude": [
    "module",
    "function",
    "builtin_function_or_method",
    "instance",
    "_Feature"
   ],
   "window_display": true
  }
 },
 "nbformat": 4,
 "nbformat_minor": 2
}
