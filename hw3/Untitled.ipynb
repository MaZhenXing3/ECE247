{
 "cells": [
  {
   "cell_type": "code",
   "execution_count": 3,
   "metadata": {},
   "outputs": [
    {
     "name": "stdout",
     "output_type": "stream",
     "text": [
      "[[ 0.22663312  0.03651432  0.95085683  1.50977647 -0.49653912]\n",
      " [ 0.04024495 -0.82152051  0.5435729   0.36090194 -1.62687895]\n",
      " [ 0.31033509  2.27680335 -0.823149   -0.51365211 -0.88400644]\n",
      " [ 0.47708437 -0.76210141  0.33508577  0.92419636  0.91023292]]\n"
     ]
    }
   ],
   "source": [
    "import numpy as np\n",
    "std = 1e-4\n",
    "a = np.random.randn(4,5)\n",
    "print(a)"
   ]
  },
  {
   "cell_type": "code",
   "execution_count": 33,
   "metadata": {},
   "outputs": [
    {
     "name": "stdout",
     "output_type": "stream",
     "text": [
      "<class 'list'>\n",
      "<class 'numpy.ndarray'>\n",
      "{0: [array([ 0, -1,  3, -4,  1,  2,  3])]}\n",
      "{0: [array([ 0, -1,  3, -4,  1,  2,  3])], 1: [array([2, 3, 4])]}\n",
      "[ 0 -1  3 -4  1  2  3]\n",
      "[2 3 4]\n",
      "[array([ 0, -1,  3, -4,  1,  2,  3])]\n",
      "<class 'list'>\n",
      "<class 'numpy.ndarray'>\n",
      "<class 'dict'>\n"
     ]
    }
   ],
   "source": [
    "f = lambda x: x * (x > 0)\n",
    "h = {}\n",
    "h[0] = [np.array([0,-1,3,-4,1,2,3])]\n",
    "\n",
    "print(type(h[0]))\n",
    "print(type(np.array([2,3])))\n",
    "print(h)\n",
    "h[1] = [np.array([2,3,4])] \n",
    "print(h)\n",
    "print(h[0][0])\n",
    "print(h[1][0])\n",
    "print(h[0])\n",
    "print(type(h[0]))\n",
    "print(type(h[0][0]))\n",
    "print(type(h))"
   ]
  },
  {
   "cell_type": "code",
   "execution_count": null,
   "metadata": {},
   "outputs": [],
   "source": []
  }
 ],
 "metadata": {
  "kernelspec": {
   "display_name": "Python 3",
   "language": "python",
   "name": "python3"
  },
  "language_info": {
   "codemirror_mode": {
    "name": "ipython",
    "version": 3
   },
   "file_extension": ".py",
   "mimetype": "text/x-python",
   "name": "python",
   "nbconvert_exporter": "python",
   "pygments_lexer": "ipython3",
   "version": "3.7.3"
  }
 },
 "nbformat": 4,
 "nbformat_minor": 2
}
